{
 "cells": [
  {
   "cell_type": "markdown",
   "metadata": {},
   "source": [
    "<p style=\"font-family: Arial; font-size:2.75em;color:blue; font-style:bold\"><br>\n",
    "\n",
    "Machine Learning from Disaster<br><br> Predict survival on the Titanic \n",
    "\n",
    "<br><br></p>"
   ]
  },
  {
   "cell_type": "markdown",
   "metadata": {},
   "source": [
    "<p style=\"font-size:1.25em\">This notebook was done as a part of Cadent Data Science python coding benchmark. <br> <br>\n",
    "The data was obtained from <a href=\"https://www.kaggle.com/c/titanic\">Kaggle</a> <br><br>\n",
    "\n",
    "The objective for this project is to predict survival using the Titanic Dataset </p>\n"
   ]
  },
  {
   "cell_type": "markdown",
   "metadata": {},
   "source": [
    "<p style=\"font-size:1.25em\">From a western perspective, the Titanic sinking is famous disaster and the machine learning problem behind it. <br><br> </p>\n",
    "\n",
    "\n",
    "<p style=\"font-size:1.05em\">The sinking of the RMS Titanic is one of the most infamous shipwrecks in history.\n",
    "On April 15, 1912, the Titanic sank on her maiden voyage after colliding with an iceberg, killing 1,502 out of 2,224 passengers and crew. This tragedy shocked the international community and led to improved safety regulations.\n",
    "\n",
    "<br><br>\n",
    "\n",
    "One of the reasons that the shipwreck led to such loss of life was that there were not enough lifeboats for the passengers and crew. Although there was some element of luck involved in surviving the sinking, some groups of people were more likely to survive than others, such as women, children, and the upper-class. </p>\n"
   ]
  },
  {
   "cell_type": "markdown",
   "metadata": {},
   "source": [
    "<img src=\"https://upload.wikimedia.org/wikipedia/commons/thumb/6/6e/St%C3%B6wer_Titanic.jpg/350px-St%C3%B6wer_Titanic.jpg\" height=\"200px\" width=\"800px\">"
   ]
  },
  {
   "cell_type": "markdown",
   "metadata": {},
   "source": [
    "<p style=\"font-size:1.25em\">\n",
    "I did a background search on this disaster to to familiarize myself with this data set. From what I found, the Titanic could carry a total of 3547 people, but at the time of the disaster, it only had 2224 people onboard. Which means that it was not even at its full capacity. However, the Titanic's lifeboat system was designed to ferry passengers to nearby rescue vessels, not to hold everyone onboard at once. There were a total of 18 lifeboats on Titatnic's upperdecks, but records show due to poor management some lifeboats left without filling to full capacity. \n",
    "\n",
    "<br><br>\n",
    "\n",
    "After the initial collision with the iceberg, it took two hours and forty minutes until it completely sank. The crew of the Titanic sent wireless messages asking for help but all nearby vessels were hours away. The Titanic was on its maiden voyage and some records show that the crew who was working on the Titanic didn't have the proper disaster management training. Also Titanic did receive the warning about ice fields before hand but at the time of the collision it was cruising at its full speed. \n",
    "\n",
    "<br><br>\n",
    "\n",
    "In summary, the lack of lifeboats, poor disaster management, and poor decision making cost 1,502 lives and completely change the maritime regulations.  </p>"
   ]
  },
  {
   "cell_type": "markdown",
   "metadata": {},
   "source": [
    "<img src=\"http://storage.edmontonsun.com/v1/suns-prod-images/1297252423477_ORIGINAL.jpg?quality=80\" height=\"200px\" width=\"800px\">"
   ]
  },
  {
   "cell_type": "markdown",
   "metadata": {},
   "source": [
    "<p style=\"font-size:1.25em\">\n",
    "\n",
    "The Impact point of the collision was the front right side of the ship, which is also known as the starboard. The impact, buckled the starboard which resulted in opening 5 of 6 compartments to the sea. Titanic had been designed to stay afloat with four of her forward compartments flooded but no more.\n",
    "\n",
    "<br><br>\n",
    "\n",
    "All 18 life boats of the ship were in the upper deck and 1st class passenger compartments were the closest to the upper deck. As a result, the 1st class passengers were in closer proximity to the life boats compared to 2nd and 3rd class passengers. This could have contributed to greater odds at surviving. </p>"
   ]
  },
  {
   "cell_type": "markdown",
   "metadata": {},
   "source": [
    "<img src=\"http://www.ssmaritime.com/Titanic-Deck-Plan.jpg\" height=\"200px\" width=\"800px\">\n",
    "\n"
   ]
  },
  {
   "cell_type": "markdown",
   "metadata": {},
   "source": [
    "<p style=\"font-size:1.25em\">\n",
    "\n",
    "The figure above shows the floor plan on each deck and there were 7 in total. </p>"
   ]
  },
  {
   "cell_type": "markdown",
   "metadata": {},
   "source": [
    "## Table of Content\n",
    "\n",
    "\n",
    "* ### Introduction \n",
    "    * Import Libraries \n",
    "    * Load Data <br>\n",
    "    * Identify Missing Values <br>\n",
    "    * Run Statistical Summeries <br>\n",
    "    * Pearson Correlation with Target Variable <br>\n",
    "* ### Missing Values Imputation\n",
    "    * Train Data Missing Columns- Embarked <br>\n",
    "    * Test Data Missing Columns- Fare <br>\n",
    "    * Expectation Maximization for Age\n",
    "    * Distribution Correlation for Fare\n",
    "* ### Feature Engineering \n",
    "    * Create the Family Feature <br>\n",
    "    * Create a Title Feature <br>\n",
    "    * Create Name Length <br>\n",
    "    * Create Ticket Numbers <br>\n",
    "    * Create Bins using Name Length <br>\n",
    "    * Data Scaling <br>\n",
    "    * Convert Categorical Data into Numerical Values <br>\n",
    "    * Create Dummy Variables <br>\n",
    "* ### Prediction \n",
    "    * Load Modules for Prediction <br>\n",
    "    * Split Data into Training and Testing <br>\n",
    "    * Create the Estimators and the Pipeline <br>\n",
    "    * Set the Parameter Grid for Hyperparameter Tuning <br>\n",
    "    * Fit the Data to Models in the Pipeline <br>\n",
    "    * Best Estimator and Hyperparameters <br>\n",
    "    * Prediction for Validation <br>\n",
    "    * Nested Score with Cross Validation <br>\n",
    "    * Precision - Recall Curve <br>"
   ]
  },
  {
   "cell_type": "markdown",
   "metadata": {},
   "source": [
    "### 1.1 Import Libraries"
   ]
  },
  {
   "cell_type": "code",
   "execution_count": 1,
   "metadata": {
    "collapsed": true
   },
   "outputs": [],
   "source": [
    "import pandas as pd\n",
    "import numpy as np\n",
    "from matplotlib import pyplot as plt\n",
    "import seaborn as sns\n",
    "\n",
    "# set env\n",
    "%matplotlib inline\n",
    "sns.set_style( 'white' )\n",
    "\n",
    "# ignore the warnings\n",
    "import warnings\n",
    "warnings.filterwarnings('ignore')"
   ]
  },
  {
   "cell_type": "markdown",
   "metadata": {},
   "source": [
    "### 1.2 Load Data"
   ]
  },
  {
   "cell_type": "code",
   "execution_count": 2,
   "metadata": {},
   "outputs": [
    {
     "data": {
      "text/html": [
       "<div>\n",
       "<style>\n",
       "    .dataframe thead tr:only-child th {\n",
       "        text-align: right;\n",
       "    }\n",
       "\n",
       "    .dataframe thead th {\n",
       "        text-align: left;\n",
       "    }\n",
       "\n",
       "    .dataframe tbody tr th {\n",
       "        vertical-align: top;\n",
       "    }\n",
       "</style>\n",
       "<table border=\"1\" class=\"dataframe\">\n",
       "  <thead>\n",
       "    <tr style=\"text-align: right;\">\n",
       "      <th></th>\n",
       "      <th>PassengerId</th>\n",
       "      <th>Survived</th>\n",
       "      <th>Pclass</th>\n",
       "      <th>Name</th>\n",
       "      <th>Sex</th>\n",
       "      <th>Age</th>\n",
       "      <th>SibSp</th>\n",
       "      <th>Parch</th>\n",
       "      <th>Ticket</th>\n",
       "      <th>Fare</th>\n",
       "      <th>Cabin</th>\n",
       "      <th>Embarked</th>\n",
       "    </tr>\n",
       "  </thead>\n",
       "  <tbody>\n",
       "    <tr>\n",
       "      <th>0</th>\n",
       "      <td>1</td>\n",
       "      <td>0</td>\n",
       "      <td>3</td>\n",
       "      <td>Braund, Mr. Owen Harris</td>\n",
       "      <td>male</td>\n",
       "      <td>22.0</td>\n",
       "      <td>1</td>\n",
       "      <td>0</td>\n",
       "      <td>A/5 21171</td>\n",
       "      <td>7.2500</td>\n",
       "      <td>NaN</td>\n",
       "      <td>S</td>\n",
       "    </tr>\n",
       "    <tr>\n",
       "      <th>1</th>\n",
       "      <td>2</td>\n",
       "      <td>1</td>\n",
       "      <td>1</td>\n",
       "      <td>Cumings, Mrs. John Bradley (Florence Briggs Th...</td>\n",
       "      <td>female</td>\n",
       "      <td>38.0</td>\n",
       "      <td>1</td>\n",
       "      <td>0</td>\n",
       "      <td>PC 17599</td>\n",
       "      <td>71.2833</td>\n",
       "      <td>C85</td>\n",
       "      <td>C</td>\n",
       "    </tr>\n",
       "    <tr>\n",
       "      <th>2</th>\n",
       "      <td>3</td>\n",
       "      <td>1</td>\n",
       "      <td>3</td>\n",
       "      <td>Heikkinen, Miss. Laina</td>\n",
       "      <td>female</td>\n",
       "      <td>26.0</td>\n",
       "      <td>0</td>\n",
       "      <td>0</td>\n",
       "      <td>STON/O2. 3101282</td>\n",
       "      <td>7.9250</td>\n",
       "      <td>NaN</td>\n",
       "      <td>S</td>\n",
       "    </tr>\n",
       "    <tr>\n",
       "      <th>3</th>\n",
       "      <td>4</td>\n",
       "      <td>1</td>\n",
       "      <td>1</td>\n",
       "      <td>Futrelle, Mrs. Jacques Heath (Lily May Peel)</td>\n",
       "      <td>female</td>\n",
       "      <td>35.0</td>\n",
       "      <td>1</td>\n",
       "      <td>0</td>\n",
       "      <td>113803</td>\n",
       "      <td>53.1000</td>\n",
       "      <td>C123</td>\n",
       "      <td>S</td>\n",
       "    </tr>\n",
       "    <tr>\n",
       "      <th>4</th>\n",
       "      <td>5</td>\n",
       "      <td>0</td>\n",
       "      <td>3</td>\n",
       "      <td>Allen, Mr. William Henry</td>\n",
       "      <td>male</td>\n",
       "      <td>35.0</td>\n",
       "      <td>0</td>\n",
       "      <td>0</td>\n",
       "      <td>373450</td>\n",
       "      <td>8.0500</td>\n",
       "      <td>NaN</td>\n",
       "      <td>S</td>\n",
       "    </tr>\n",
       "  </tbody>\n",
       "</table>\n",
       "</div>"
      ],
      "text/plain": [
       "   PassengerId  Survived  Pclass  \\\n",
       "0            1         0       3   \n",
       "1            2         1       1   \n",
       "2            3         1       3   \n",
       "3            4         1       1   \n",
       "4            5         0       3   \n",
       "\n",
       "                                                Name     Sex   Age  SibSp  \\\n",
       "0                            Braund, Mr. Owen Harris    male  22.0      1   \n",
       "1  Cumings, Mrs. John Bradley (Florence Briggs Th...  female  38.0      1   \n",
       "2                             Heikkinen, Miss. Laina  female  26.0      0   \n",
       "3       Futrelle, Mrs. Jacques Heath (Lily May Peel)  female  35.0      1   \n",
       "4                           Allen, Mr. William Henry    male  35.0      0   \n",
       "\n",
       "   Parch            Ticket     Fare Cabin Embarked  \n",
       "0      0         A/5 21171   7.2500   NaN        S  \n",
       "1      0          PC 17599  71.2833   C85        C  \n",
       "2      0  STON/O2. 3101282   7.9250   NaN        S  \n",
       "3      0            113803  53.1000  C123        S  \n",
       "4      0            373450   8.0500   NaN        S  "
      ]
     },
     "execution_count": 2,
     "metadata": {},
     "output_type": "execute_result"
    }
   ],
   "source": [
    "train = pd.read_csv(\"./Data/train.csv\")\n",
    "test = pd.read_csv(\"./Data/test.csv\")\n",
    "train.head()"
   ]
  },
  {
   "cell_type": "code",
   "execution_count": 3,
   "metadata": {},
   "outputs": [
    {
     "data": {
      "text/plain": [
       "((891, 12), (418, 11))"
      ]
     },
     "execution_count": 3,
     "metadata": {},
     "output_type": "execute_result"
    }
   ],
   "source": [
    "# the test data set has 1 less column \n",
    "# the missing column is survival which will be out prediction\n",
    "train.shape, test.shape"
   ]
  },
  {
   "cell_type": "code",
   "execution_count": 4,
   "metadata": {
    "scrolled": false
   },
   "outputs": [
    {
     "data": {
      "text/html": [
       "<div>\n",
       "<style>\n",
       "    .dataframe thead tr:only-child th {\n",
       "        text-align: right;\n",
       "    }\n",
       "\n",
       "    .dataframe thead th {\n",
       "        text-align: left;\n",
       "    }\n",
       "\n",
       "    .dataframe tbody tr th {\n",
       "        vertical-align: top;\n",
       "    }\n",
       "</style>\n",
       "<table border=\"1\" class=\"dataframe\">\n",
       "  <thead>\n",
       "    <tr style=\"text-align: right;\">\n",
       "      <th></th>\n",
       "      <th>PassengerId</th>\n",
       "      <th>Survived</th>\n",
       "      <th>Pclass</th>\n",
       "      <th>Age</th>\n",
       "      <th>SibSp</th>\n",
       "      <th>Parch</th>\n",
       "      <th>Fare</th>\n",
       "    </tr>\n",
       "  </thead>\n",
       "  <tbody>\n",
       "    <tr>\n",
       "      <th>count</th>\n",
       "      <td>891.000000</td>\n",
       "      <td>891.000000</td>\n",
       "      <td>891.000000</td>\n",
       "      <td>714.000000</td>\n",
       "      <td>891.000000</td>\n",
       "      <td>891.000000</td>\n",
       "      <td>891.000000</td>\n",
       "    </tr>\n",
       "    <tr>\n",
       "      <th>mean</th>\n",
       "      <td>446.000000</td>\n",
       "      <td>0.383838</td>\n",
       "      <td>2.308642</td>\n",
       "      <td>29.699118</td>\n",
       "      <td>0.523008</td>\n",
       "      <td>0.381594</td>\n",
       "      <td>32.204208</td>\n",
       "    </tr>\n",
       "    <tr>\n",
       "      <th>std</th>\n",
       "      <td>257.353842</td>\n",
       "      <td>0.486592</td>\n",
       "      <td>0.836071</td>\n",
       "      <td>14.526497</td>\n",
       "      <td>1.102743</td>\n",
       "      <td>0.806057</td>\n",
       "      <td>49.693429</td>\n",
       "    </tr>\n",
       "    <tr>\n",
       "      <th>min</th>\n",
       "      <td>1.000000</td>\n",
       "      <td>0.000000</td>\n",
       "      <td>1.000000</td>\n",
       "      <td>0.420000</td>\n",
       "      <td>0.000000</td>\n",
       "      <td>0.000000</td>\n",
       "      <td>0.000000</td>\n",
       "    </tr>\n",
       "    <tr>\n",
       "      <th>25%</th>\n",
       "      <td>223.500000</td>\n",
       "      <td>0.000000</td>\n",
       "      <td>2.000000</td>\n",
       "      <td>20.125000</td>\n",
       "      <td>0.000000</td>\n",
       "      <td>0.000000</td>\n",
       "      <td>7.910400</td>\n",
       "    </tr>\n",
       "    <tr>\n",
       "      <th>50%</th>\n",
       "      <td>446.000000</td>\n",
       "      <td>0.000000</td>\n",
       "      <td>3.000000</td>\n",
       "      <td>28.000000</td>\n",
       "      <td>0.000000</td>\n",
       "      <td>0.000000</td>\n",
       "      <td>14.454200</td>\n",
       "    </tr>\n",
       "    <tr>\n",
       "      <th>75%</th>\n",
       "      <td>668.500000</td>\n",
       "      <td>1.000000</td>\n",
       "      <td>3.000000</td>\n",
       "      <td>38.000000</td>\n",
       "      <td>1.000000</td>\n",
       "      <td>0.000000</td>\n",
       "      <td>31.000000</td>\n",
       "    </tr>\n",
       "    <tr>\n",
       "      <th>max</th>\n",
       "      <td>891.000000</td>\n",
       "      <td>1.000000</td>\n",
       "      <td>3.000000</td>\n",
       "      <td>80.000000</td>\n",
       "      <td>8.000000</td>\n",
       "      <td>6.000000</td>\n",
       "      <td>512.329200</td>\n",
       "    </tr>\n",
       "  </tbody>\n",
       "</table>\n",
       "</div>"
      ],
      "text/plain": [
       "       PassengerId    Survived      Pclass         Age       SibSp  \\\n",
       "count   891.000000  891.000000  891.000000  714.000000  891.000000   \n",
       "mean    446.000000    0.383838    2.308642   29.699118    0.523008   \n",
       "std     257.353842    0.486592    0.836071   14.526497    1.102743   \n",
       "min       1.000000    0.000000    1.000000    0.420000    0.000000   \n",
       "25%     223.500000    0.000000    2.000000   20.125000    0.000000   \n",
       "50%     446.000000    0.000000    3.000000   28.000000    0.000000   \n",
       "75%     668.500000    1.000000    3.000000   38.000000    1.000000   \n",
       "max     891.000000    1.000000    3.000000   80.000000    8.000000   \n",
       "\n",
       "            Parch        Fare  \n",
       "count  891.000000  891.000000  \n",
       "mean     0.381594   32.204208  \n",
       "std      0.806057   49.693429  \n",
       "min      0.000000    0.000000  \n",
       "25%      0.000000    7.910400  \n",
       "50%      0.000000   14.454200  \n",
       "75%      0.000000   31.000000  \n",
       "max      6.000000  512.329200  "
      ]
     },
     "execution_count": 4,
     "metadata": {},
     "output_type": "execute_result"
    }
   ],
   "source": [
    "# Get detail information about the data set\n",
    "train.describe()"
   ]
  },
  {
   "cell_type": "markdown",
   "metadata": {},
   "source": [
    "### 1.3 Identify Missing Values"
   ]
  },
  {
   "cell_type": "code",
   "execution_count": 5,
   "metadata": {},
   "outputs": [
    {
     "name": "stdout",
     "output_type": "stream",
     "text": [
      "<class 'pandas.core.frame.DataFrame'>\n",
      "RangeIndex: 891 entries, 0 to 890\n",
      "Data columns (total 12 columns):\n",
      "PassengerId    891 non-null int64\n",
      "Survived       891 non-null int64\n",
      "Pclass         891 non-null int64\n",
      "Name           891 non-null object\n",
      "Sex            891 non-null object\n",
      "Age            714 non-null float64\n",
      "SibSp          891 non-null int64\n",
      "Parch          891 non-null int64\n",
      "Ticket         891 non-null object\n",
      "Fare           891 non-null float64\n",
      "Cabin          204 non-null object\n",
      "Embarked       889 non-null object\n",
      "dtypes: float64(2), int64(5), object(5)\n",
      "memory usage: 83.6+ KB\n",
      "--------------------------------------------------\n",
      "<class 'pandas.core.frame.DataFrame'>\n",
      "RangeIndex: 418 entries, 0 to 417\n",
      "Data columns (total 11 columns):\n",
      "PassengerId    418 non-null int64\n",
      "Pclass         418 non-null int64\n",
      "Name           418 non-null object\n",
      "Sex            418 non-null object\n",
      "Age            332 non-null float64\n",
      "SibSp          418 non-null int64\n",
      "Parch          418 non-null int64\n",
      "Ticket         418 non-null object\n",
      "Fare           417 non-null float64\n",
      "Cabin          91 non-null object\n",
      "Embarked       418 non-null object\n",
      "dtypes: float64(2), int64(4), object(5)\n",
      "memory usage: 36.0+ KB\n"
     ]
    }
   ],
   "source": [
    "# Get detail information about each column count \n",
    "train.info()\n",
    "print(\"--------------------------------------------------\")\n",
    "test.info()\n",
    "# In Age, Cabin and Embarked has missing values"
   ]
  },
  {
   "cell_type": "code",
   "execution_count": 6,
   "metadata": {
    "scrolled": false
   },
   "outputs": [
    {
     "data": {
      "text/html": [
       "<div>\n",
       "<style>\n",
       "    .dataframe thead tr:only-child th {\n",
       "        text-align: right;\n",
       "    }\n",
       "\n",
       "    .dataframe thead th {\n",
       "        text-align: left;\n",
       "    }\n",
       "\n",
       "    .dataframe tbody tr th {\n",
       "        vertical-align: top;\n",
       "    }\n",
       "</style>\n",
       "<table border=\"1\" class=\"dataframe\">\n",
       "  <thead>\n",
       "    <tr style=\"text-align: right;\">\n",
       "      <th></th>\n",
       "      <th>Train</th>\n",
       "      <th>Test</th>\n",
       "    </tr>\n",
       "  </thead>\n",
       "  <tbody>\n",
       "    <tr>\n",
       "      <th>Age</th>\n",
       "      <td>177</td>\n",
       "      <td>86.0</td>\n",
       "    </tr>\n",
       "    <tr>\n",
       "      <th>Cabin</th>\n",
       "      <td>687</td>\n",
       "      <td>327.0</td>\n",
       "    </tr>\n",
       "    <tr>\n",
       "      <th>Embarked</th>\n",
       "      <td>2</td>\n",
       "      <td>0.0</td>\n",
       "    </tr>\n",
       "    <tr>\n",
       "      <th>Fare</th>\n",
       "      <td>0</td>\n",
       "      <td>1.0</td>\n",
       "    </tr>\n",
       "    <tr>\n",
       "      <th>Name</th>\n",
       "      <td>0</td>\n",
       "      <td>0.0</td>\n",
       "    </tr>\n",
       "    <tr>\n",
       "      <th>Parch</th>\n",
       "      <td>0</td>\n",
       "      <td>0.0</td>\n",
       "    </tr>\n",
       "    <tr>\n",
       "      <th>PassengerId</th>\n",
       "      <td>0</td>\n",
       "      <td>0.0</td>\n",
       "    </tr>\n",
       "    <tr>\n",
       "      <th>Pclass</th>\n",
       "      <td>0</td>\n",
       "      <td>0.0</td>\n",
       "    </tr>\n",
       "    <tr>\n",
       "      <th>Sex</th>\n",
       "      <td>0</td>\n",
       "      <td>0.0</td>\n",
       "    </tr>\n",
       "    <tr>\n",
       "      <th>SibSp</th>\n",
       "      <td>0</td>\n",
       "      <td>0.0</td>\n",
       "    </tr>\n",
       "    <tr>\n",
       "      <th>Survived</th>\n",
       "      <td>0</td>\n",
       "      <td>NaN</td>\n",
       "    </tr>\n",
       "    <tr>\n",
       "      <th>Ticket</th>\n",
       "      <td>0</td>\n",
       "      <td>0.0</td>\n",
       "    </tr>\n",
       "  </tbody>\n",
       "</table>\n",
       "</div>"
      ],
      "text/plain": [
       "             Train   Test\n",
       "Age            177   86.0\n",
       "Cabin          687  327.0\n",
       "Embarked         2    0.0\n",
       "Fare             0    1.0\n",
       "Name             0    0.0\n",
       "Parch            0    0.0\n",
       "PassengerId      0    0.0\n",
       "Pclass           0    0.0\n",
       "Sex              0    0.0\n",
       "SibSp            0    0.0\n",
       "Survived         0    NaN\n",
       "Ticket           0    0.0"
      ]
     },
     "execution_count": 6,
     "metadata": {},
     "output_type": "execute_result"
    }
   ],
   "source": [
    "# Calculate the missing values in each column in both testing and training\n",
    "missing_train = train.isnull().sum().sort_values(ascending=False)\n",
    "missing_test = test.isnull().sum().sort_values(ascending=False)\n",
    "missing_values = pd.concat([missing_train,missing_test], axis=1, keys=[\"Train\",\"Test\"])\n",
    "missing_values"
   ]
  },
  {
   "cell_type": "code",
   "execution_count": 7,
   "metadata": {},
   "outputs": [
    {
     "data": {
      "text/plain": [
       "<matplotlib.text.Text at 0x7fb3284d52b0>"
      ]
     },
     "execution_count": 7,
     "metadata": {},
     "output_type": "execute_result"
    },
    {
     "data": {
      "image/png": "[encoded data removed]",
      "text/plain": [
       "<matplotlib.figure.Figure at 0x7fb3284a2208>"
      ]
     },
     "metadata": {},
     "output_type": "display_data"
    }
   ],
   "source": [
    "# Age and Cabin has the highest missing values\n",
    "missing_count = pd.concat([missing_values.loc[\"Age\"],missing_values.loc[\"Cabin\"]],axis=1)\n",
    "ax = missing_count.plot(kind='barh',title=\"Missing values in both test and train data set\",legend=True)\n",
    "ax.set_xlabel(\"Count\")\n",
    "ax.set_ylabel(\"Category\")"
   ]
  },
  {
   "cell_type": "markdown",
   "metadata": {},
   "source": [
    "### 1.4 Run Statistical Summaries"
   ]
  },
  {
   "cell_type": "code",
   "execution_count": 8,
   "metadata": {},
   "outputs": [
    {
     "data": {
      "text/plain": [
       "0.3838383838383838"
      ]
     },
     "execution_count": 8,
     "metadata": {},
     "output_type": "execute_result"
    }
   ],
   "source": [
    "# From the training data we want to know the propotion of people survived compared to all people onboard \n",
    "\n",
    "survived = train.loc[train[\"Survived\"] == 1]\n",
    "not_survived = train.loc[train[\"Survived\"] == 0]\n",
    "survival_ratio_in_train = len(survived)/(len(not_survived)+len(survived))\n",
    "\n",
    "# this ratio could be useful if we have to split out train data in futher steps\n",
    "survival_ratio_in_train"
   ]
  },
  {
   "cell_type": "code",
   "execution_count": 9,
   "metadata": {},
   "outputs": [
    {
     "data": {
      "text/plain": [
       "<matplotlib.legend.Legend at 0x7fb35907d860>"
      ]
     },
     "execution_count": 9,
     "metadata": {},
     "output_type": "execute_result"
    },
    {
     "data": {
      "image/png": "[encoded data removed]",
      "text/plain": [
       "<matplotlib.figure.Figure at 0x7fb325adf908>"
      ]
     },
     "metadata": {},
     "output_type": "display_data"
    }
   ],
   "source": [
    "# Survived by Gender\n",
    "\n",
    "survived_by_gender = pd.crosstab(train[\"Survived\"],train[\"Sex\"])\n",
    "ax1,ax2 = survived_by_gender.plot(kind='pie',title=\"Survived by Gender\",legend=True,subplots=True, autopct='%1.0f%%',labels=None)\n",
    "\n",
    "ax1.legend(['Not Survived', 'Survived'],loc='upper left',bbox_to_anchor=(-0.4, 1.))"
   ]
  },
  {
   "cell_type": "code",
   "execution_count": 10,
   "metadata": {},
   "outputs": [
    {
     "data": {
      "text/plain": [
       "<matplotlib.legend.Legend at 0x7fb3588026d8>"
      ]
     },
     "execution_count": 10,
     "metadata": {},
     "output_type": "execute_result"
    },
    {
     "data": {
      "image/png": "[encoded data removed]",
      "text/plain": [
       "<matplotlib.figure.Figure at 0x7fb325951940>"
      ]
     },
     "metadata": {},
     "output_type": "display_data"
    }
   ],
   "source": [
    "# Survived by Class\n",
    "\n",
    "survived_by_class = pd.crosstab(train[\"Pclass\"],train[\"Survived\"])\n",
    "survived_by_class.columns = ['Not Survived','Survived']\n",
    "ax1,ax2 = survived_by_class.plot(kind='pie',title=\"Survived by Passenger class\",subplots=True,labels=None, autopct='%1.0f%%')\n",
    "\n",
    "ax1.legend(['1st Class', '2nd Class','3rd class'],title=\"Class\",loc='upper left',bbox_to_anchor=(-0.5, 1.))"
   ]
  },
  {
   "cell_type": "code",
   "execution_count": 11,
   "metadata": {
    "scrolled": false
   },
   "outputs": [
    {
     "data": {
      "text/plain": [
       "<matplotlib.legend.Legend at 0x7fb3588029b0>"
      ]
     },
     "execution_count": 11,
     "metadata": {},
     "output_type": "execute_result"
    },
    {
     "data": {
      "image/png": "[encoded data removed]",
      "text/plain": [
       "<matplotlib.figure.Figure at 0x7fb3258040f0>"
      ]
     },
     "metadata": {},
     "output_type": "display_data"
    }
   ],
   "source": [
    "# Survived by siblins or Spouse aborad\n",
    "\n",
    "survived_by_sibsp = pd.crosstab(train['SibSp'],train['Survived'])\n",
    "survived_by_sibsp.columns = ['Not Survived','Survived']\n",
    "\n",
    "ax1,ax2 = survived_by_sibsp.plot(kind='pie', title='Survival based on having siblings or spouses aboard',subplots=True,labels=None, autopct='%1.0f%%')\n",
    "\n",
    "ax1.legend(['None', 'One', 'Two', 'Three', 'Four', 'Five', 'Eight'], title = \"# Siblings or Spouses\", loc='upper left',bbox_to_anchor=(-0.8, 1.))"
   ]
  },
  {
   "cell_type": "code",
   "execution_count": 12,
   "metadata": {},
   "outputs": [
    {
     "data": {
      "text/plain": [
       "<matplotlib.legend.Legend at 0x7fb3255cf2b0>"
      ]
     },
     "execution_count": 12,
     "metadata": {},
     "output_type": "execute_result"
    },
    {
     "data": {
      "image/png": "[encoded data removed]",
      "text/plain": [
       "<matplotlib.figure.Figure at 0x7fb3256883c8>"
      ]
     },
     "metadata": {},
     "output_type": "display_data"
    }
   ],
   "source": [
    "# Survived by Parents or children aborad\n",
    "\n",
    "survived_by_parch = pd.crosstab(train['Parch'],train['Survived'])\n",
    "survived_by_parch.columns = ['Not Survived','Survived']\n",
    "\n",
    "ax1,ax2 = survived_by_parch.plot(kind='pie', title='Survival based on having parents or children aboard',subplots=True,labels=None, autopct='%1.0f%%')\n",
    "\n",
    "ax1.legend(['None', 'One', 'Two', 'Three', 'Four', 'Five', 'Six'],title=\"# Parents/ Children\", loc='upper left',bbox_to_anchor=(-0.8, 1.))"
   ]
  },
  {
   "cell_type": "code",
   "execution_count": 13,
   "metadata": {},
   "outputs": [
    {
     "data": {
      "image/png": "[encoded data removed]",
      "text/plain": [
       "<matplotlib.figure.Figure at 0x7fb325b5b208>"
      ]
     },
     "metadata": {},
     "output_type": "display_data"
    }
   ],
   "source": [
    "# Survived by Class, Far and Age\n",
    "\n",
    "g = sns.FacetGrid(train, hue=\"Survived\", col=\"Pclass\", margin_titles=True,\n",
    "                  palette={1:\"blue\", 0:\"red\"})\n",
    "g = g.map(plt.scatter, \"Fare\", \"Age\",edgecolor=\"w\").add_legend()\n",
    "plt.subplots_adjust(top=0.8)\n",
    "g.fig.suptitle('Survival by Class , Age and Fare');"
   ]
  },
  {
   "cell_type": "code",
   "execution_count": 14,
   "metadata": {
    "scrolled": false
   },
   "outputs": [
    {
     "data": {
      "text/plain": [
       "<matplotlib.text.Text at 0x7fb32526a2e8>"
      ]
     },
     "execution_count": 14,
     "metadata": {},
     "output_type": "execute_result"
    },
    {
     "data": {
      "image/png": "[encoded data removed]",
      "text/plain": [
       "<matplotlib.figure.Figure at 0x7fb325b45c50>"
      ]
     },
     "metadata": {},
     "output_type": "display_data"
    }
   ],
   "source": [
    "# Survived by Age and Fare\n",
    "\n",
    "g = sns.FacetGrid(train, hue=\"Survived\", col=\"Sex\", margin_titles=True,\n",
    "                palette=\"Set1\",hue_kws=dict(marker=[\"^\", \"v\"]))\n",
    "g.map(plt.scatter, \"Fare\", \"Age\",edgecolor=\"w\").add_legend()\n",
    "plt.subplots_adjust(top=0.8)\n",
    "g.fig.suptitle('Survival by Gender , Age and Fare')"
   ]
  },
  {
   "cell_type": "code",
   "execution_count": 15,
   "metadata": {
    "collapsed": true
   },
   "outputs": [],
   "source": [
    "# On its journey from Southhampton to NY, Titanic made 3 stops \n",
    "# This embarked locations stands for those stops\n",
    "# S = SounthHampton\n",
    "# C = Cherbourg\n",
    "# Q = Queenstown\n",
    "\n",
    "train.loc[train[\"Embarked\"] == \"S\", \"Embarked\"] = \"Southhampton\"\n",
    "train.loc[train[\"Embarked\"] == \"C\", \"Embarked\"] = \"Cherbourg\"\n",
    "train.loc[train[\"Embarked\"] == \"Q\", \"Embarked\"] = \"Queenstown\"\n",
    "\n",
    "test.loc[test[\"Embarked\"] == \"S\", \"Embarked\"] = \"Southhampton\"\n",
    "test.loc[test[\"Embarked\"] == \"C\", \"Embarked\"] = \"Cherbourg\"\n",
    "test.loc[test[\"Embarked\"] == \"Q\", \"Embarked\"] = \"Queenstown\""
   ]
  },
  {
   "cell_type": "code",
   "execution_count": 16,
   "metadata": {},
   "outputs": [
    {
     "data": {
      "text/html": [
       "<div>\n",
       "<style>\n",
       "    .dataframe thead tr:only-child th {\n",
       "        text-align: right;\n",
       "    }\n",
       "\n",
       "    .dataframe thead th {\n",
       "        text-align: left;\n",
       "    }\n",
       "\n",
       "    .dataframe tbody tr th {\n",
       "        vertical-align: top;\n",
       "    }\n",
       "</style>\n",
       "<table border=\"1\" class=\"dataframe\">\n",
       "  <thead>\n",
       "    <tr style=\"text-align: right;\">\n",
       "      <th></th>\n",
       "      <th>PassengerId</th>\n",
       "      <th>Survived</th>\n",
       "      <th>Pclass</th>\n",
       "      <th>Name</th>\n",
       "      <th>Sex</th>\n",
       "      <th>Age</th>\n",
       "      <th>SibSp</th>\n",
       "      <th>Parch</th>\n",
       "      <th>Ticket</th>\n",
       "      <th>Fare</th>\n",
       "      <th>Cabin</th>\n",
       "      <th>Embarked</th>\n",
       "    </tr>\n",
       "  </thead>\n",
       "  <tbody>\n",
       "    <tr>\n",
       "      <th>0</th>\n",
       "      <td>1</td>\n",
       "      <td>0</td>\n",
       "      <td>3</td>\n",
       "      <td>Braund, Mr. Owen Harris</td>\n",
       "      <td>male</td>\n",
       "      <td>22.0</td>\n",
       "      <td>1</td>\n",
       "      <td>0</td>\n",
       "      <td>A/5 21171</td>\n",
       "      <td>7.2500</td>\n",
       "      <td>NaN</td>\n",
       "      <td>Southhampton</td>\n",
       "    </tr>\n",
       "    <tr>\n",
       "      <th>1</th>\n",
       "      <td>2</td>\n",
       "      <td>1</td>\n",
       "      <td>1</td>\n",
       "      <td>Cumings, Mrs. John Bradley (Florence Briggs Th...</td>\n",
       "      <td>female</td>\n",
       "      <td>38.0</td>\n",
       "      <td>1</td>\n",
       "      <td>0</td>\n",
       "      <td>PC 17599</td>\n",
       "      <td>71.2833</td>\n",
       "      <td>C85</td>\n",
       "      <td>Cherbourg</td>\n",
       "    </tr>\n",
       "    <tr>\n",
       "      <th>2</th>\n",
       "      <td>3</td>\n",
       "      <td>1</td>\n",
       "      <td>3</td>\n",
       "      <td>Heikkinen, Miss. Laina</td>\n",
       "      <td>female</td>\n",
       "      <td>26.0</td>\n",
       "      <td>0</td>\n",
       "      <td>0</td>\n",
       "      <td>STON/O2. 3101282</td>\n",
       "      <td>7.9250</td>\n",
       "      <td>NaN</td>\n",
       "      <td>Southhampton</td>\n",
       "    </tr>\n",
       "    <tr>\n",
       "      <th>3</th>\n",
       "      <td>4</td>\n",
       "      <td>1</td>\n",
       "      <td>1</td>\n",
       "      <td>Futrelle, Mrs. Jacques Heath (Lily May Peel)</td>\n",
       "      <td>female</td>\n",
       "      <td>35.0</td>\n",
       "      <td>1</td>\n",
       "      <td>0</td>\n",
       "      <td>113803</td>\n",
       "      <td>53.1000</td>\n",
       "      <td>C123</td>\n",
       "      <td>Southhampton</td>\n",
       "    </tr>\n",
       "    <tr>\n",
       "      <th>4</th>\n",
       "      <td>5</td>\n",
       "      <td>0</td>\n",
       "      <td>3</td>\n",
       "      <td>Allen, Mr. William Henry</td>\n",
       "      <td>male</td>\n",
       "      <td>35.0</td>\n",
       "      <td>0</td>\n",
       "      <td>0</td>\n",
       "      <td>373450</td>\n",
       "      <td>8.0500</td>\n",
       "      <td>NaN</td>\n",
       "      <td>Southhampton</td>\n",
       "    </tr>\n",
       "  </tbody>\n",
       "</table>\n",
       "</div>"
      ],
      "text/plain": [
       "   PassengerId  Survived  Pclass  \\\n",
       "0            1         0       3   \n",
       "1            2         1       1   \n",
       "2            3         1       3   \n",
       "3            4         1       1   \n",
       "4            5         0       3   \n",
       "\n",
       "                                                Name     Sex   Age  SibSp  \\\n",
       "0                            Braund, Mr. Owen Harris    male  22.0      1   \n",
       "1  Cumings, Mrs. John Bradley (Florence Briggs Th...  female  38.0      1   \n",
       "2                             Heikkinen, Miss. Laina  female  26.0      0   \n",
       "3       Futrelle, Mrs. Jacques Heath (Lily May Peel)  female  35.0      1   \n",
       "4                           Allen, Mr. William Henry    male  35.0      0   \n",
       "\n",
       "   Parch            Ticket     Fare Cabin      Embarked  \n",
       "0      0         A/5 21171   7.2500   NaN  Southhampton  \n",
       "1      0          PC 17599  71.2833   C85     Cherbourg  \n",
       "2      0  STON/O2. 3101282   7.9250   NaN  Southhampton  \n",
       "3      0            113803  53.1000  C123  Southhampton  \n",
       "4      0            373450   8.0500   NaN  Southhampton  "
      ]
     },
     "execution_count": 16,
     "metadata": {},
     "output_type": "execute_result"
    }
   ],
   "source": [
    "train.head()"
   ]
  },
  {
   "cell_type": "code",
   "execution_count": 17,
   "metadata": {
    "scrolled": false
   },
   "outputs": [
    {
     "data": {
      "text/plain": [
       "<seaborn.axisgrid.FacetGrid at 0x7fb325b58cf8>"
      ]
     },
     "execution_count": 17,
     "metadata": {},
     "output_type": "execute_result"
    },
    {
     "data": {
      "image/png": "[encoded data removed]",
      "text/plain": [
       "<matplotlib.figure.Figure at 0x7fb32526ad68>"
      ]
     },
     "metadata": {},
     "output_type": "display_data"
    }
   ],
   "source": [
    "# Let set the Embarked value to the original values\n",
    "sns.factorplot(x ='Embarked', y=\"Survived\", data=train, color=\"r\")"
   ]
  },
  {
   "cell_type": "code",
   "execution_count": 18,
   "metadata": {},
   "outputs": [
    {
     "data": {
      "text/plain": [
       "<matplotlib.text.Text at 0x7fb325190c50>"
      ]
     },
     "execution_count": 18,
     "metadata": {},
     "output_type": "execute_result"
    },
    {
     "data": {
      "image/png": "[encoded data removed]",
      "text/plain": [
       "<matplotlib.figure.Figure at 0x7fb3251d21d0>"
      ]
     },
     "metadata": {},
     "output_type": "display_data"
    }
   ],
   "source": [
    "# survived by Fare and Age based on Embarked\n",
    "\n",
    "g = sns.FacetGrid(train, hue=\"Survived\", col=\"Embarked\", margin_titles=True,\n",
    "                palette=\"Set1\",hue_kws=dict(marker=[\"^\", \"v\"]))\n",
    "g.map(plt.scatter, \"Fare\", \"Age\",edgecolor=\"w\").add_legend()\n",
    "plt.subplots_adjust(top=0.8)\n",
    "g.fig.suptitle('Survival by Gender , Age and Fare')"
   ]
  },
  {
   "cell_type": "code",
   "execution_count": 19,
   "metadata": {
    "scrolled": true
   },
   "outputs": [
    {
     "data": {
      "text/html": [
       "<div>\n",
       "<style>\n",
       "    .dataframe thead tr:only-child th {\n",
       "        text-align: right;\n",
       "    }\n",
       "\n",
       "    .dataframe thead th {\n",
       "        text-align: left;\n",
       "    }\n",
       "\n",
       "    .dataframe tbody tr th {\n",
       "        vertical-align: top;\n",
       "    }\n",
       "</style>\n",
       "<table border=\"1\" class=\"dataframe\">\n",
       "  <thead>\n",
       "    <tr style=\"text-align: right;\">\n",
       "      <th></th>\n",
       "      <th>Survived</th>\n",
       "      <th>PassengerId</th>\n",
       "      <th>Pclass</th>\n",
       "      <th>Name</th>\n",
       "      <th>Sex</th>\n",
       "      <th>Age</th>\n",
       "      <th>SibSp</th>\n",
       "      <th>Parch</th>\n",
       "      <th>Ticket</th>\n",
       "      <th>Fare</th>\n",
       "      <th>Cabin</th>\n",
       "      <th>Embarked</th>\n",
       "    </tr>\n",
       "  </thead>\n",
       "  <tbody>\n",
       "    <tr>\n",
       "      <th>0</th>\n",
       "      <td>0</td>\n",
       "      <td>1</td>\n",
       "      <td>3</td>\n",
       "      <td>Braund, Mr. Owen Harris</td>\n",
       "      <td>male</td>\n",
       "      <td>22.0</td>\n",
       "      <td>1</td>\n",
       "      <td>0</td>\n",
       "      <td>A/5 21171</td>\n",
       "      <td>7.2500</td>\n",
       "      <td>NaN</td>\n",
       "      <td>Southhampton</td>\n",
       "    </tr>\n",
       "    <tr>\n",
       "      <th>1</th>\n",
       "      <td>1</td>\n",
       "      <td>2</td>\n",
       "      <td>1</td>\n",
       "      <td>Cumings, Mrs. John Bradley (Florence Briggs Th...</td>\n",
       "      <td>female</td>\n",
       "      <td>38.0</td>\n",
       "      <td>1</td>\n",
       "      <td>0</td>\n",
       "      <td>PC 17599</td>\n",
       "      <td>71.2833</td>\n",
       "      <td>C85</td>\n",
       "      <td>Cherbourg</td>\n",
       "    </tr>\n",
       "    <tr>\n",
       "      <th>2</th>\n",
       "      <td>1</td>\n",
       "      <td>3</td>\n",
       "      <td>3</td>\n",
       "      <td>Heikkinen, Miss. Laina</td>\n",
       "      <td>female</td>\n",
       "      <td>26.0</td>\n",
       "      <td>0</td>\n",
       "      <td>0</td>\n",
       "      <td>STON/O2. 3101282</td>\n",
       "      <td>7.9250</td>\n",
       "      <td>NaN</td>\n",
       "      <td>Southhampton</td>\n",
       "    </tr>\n",
       "    <tr>\n",
       "      <th>3</th>\n",
       "      <td>1</td>\n",
       "      <td>4</td>\n",
       "      <td>1</td>\n",
       "      <td>Futrelle, Mrs. Jacques Heath (Lily May Peel)</td>\n",
       "      <td>female</td>\n",
       "      <td>35.0</td>\n",
       "      <td>1</td>\n",
       "      <td>0</td>\n",
       "      <td>113803</td>\n",
       "      <td>53.1000</td>\n",
       "      <td>C123</td>\n",
       "      <td>Southhampton</td>\n",
       "    </tr>\n",
       "    <tr>\n",
       "      <th>4</th>\n",
       "      <td>0</td>\n",
       "      <td>5</td>\n",
       "      <td>3</td>\n",
       "      <td>Allen, Mr. William Henry</td>\n",
       "      <td>male</td>\n",
       "      <td>35.0</td>\n",
       "      <td>0</td>\n",
       "      <td>0</td>\n",
       "      <td>373450</td>\n",
       "      <td>8.0500</td>\n",
       "      <td>NaN</td>\n",
       "      <td>Southhampton</td>\n",
       "    </tr>\n",
       "  </tbody>\n",
       "</table>\n",
       "</div>"
      ],
      "text/plain": [
       "   Survived  PassengerId  Pclass  \\\n",
       "0         0            1       3   \n",
       "1         1            2       1   \n",
       "2         1            3       3   \n",
       "3         1            4       1   \n",
       "4         0            5       3   \n",
       "\n",
       "                                                Name     Sex   Age  SibSp  \\\n",
       "0                            Braund, Mr. Owen Harris    male  22.0      1   \n",
       "1  Cumings, Mrs. John Bradley (Florence Briggs Th...  female  38.0      1   \n",
       "2                             Heikkinen, Miss. Laina  female  26.0      0   \n",
       "3       Futrelle, Mrs. Jacques Heath (Lily May Peel)  female  35.0      1   \n",
       "4                           Allen, Mr. William Henry    male  35.0      0   \n",
       "\n",
       "   Parch            Ticket     Fare Cabin      Embarked  \n",
       "0      0         A/5 21171   7.2500   NaN  Southhampton  \n",
       "1      0          PC 17599  71.2833   C85     Cherbourg  \n",
       "2      0  STON/O2. 3101282   7.9250   NaN  Southhampton  \n",
       "3      0            113803  53.1000  C123  Southhampton  \n",
       "4      0            373450   8.0500   NaN  Southhampton  "
      ]
     },
     "execution_count": 19,
     "metadata": {},
     "output_type": "execute_result"
    }
   ],
   "source": [
    "# To calculate the Pesrson Coeff, let's make Survival as the 1st column\n",
    "\n",
    "cols = train.columns.tolist()\n",
    "cols[0],cols[1] = cols[1], cols[0]\n",
    "recol_train = train[cols]\n",
    "recol_train.head()"
   ]
  },
  {
   "cell_type": "markdown",
   "metadata": {},
   "source": [
    "### 1.5 Pearson Correlation with Target Variable "
   ]
  },
  {
   "cell_type": "code",
   "execution_count": 20,
   "metadata": {},
   "outputs": [
    {
     "data": {
      "text/plain": [
       "<matplotlib.text.Text at 0x7fb3259510f0>"
      ]
     },
     "execution_count": 20,
     "metadata": {},
     "output_type": "execute_result"
    },
    {
     "data": {
      "image/png": "[encoded data removed]",
      "text/plain": [
       "<matplotlib.figure.Figure at 0x7fb325505320>"
      ]
     },
     "metadata": {},
     "output_type": "display_data"
    }
   ],
   "source": [
    "colormap = plt.cm.viridis\n",
    "corr = recol_train.corr()\n",
    "plt.figure(figsize=(12, 12))\n",
    "sns.heatmap(corr, vmax=.8, linewidths=0.01,\n",
    "            square=True,annot=True,cmap=colormap,linecolor=\"white\")\n",
    "plt.title('Pearson Correlation of Features', y=1.05, size=15)"
   ]
  },
  {
   "cell_type": "markdown",
   "metadata": {},
   "source": [
    "## 2.0 Missing Value Imputation"
   ]
  },
  {
   "cell_type": "markdown",
   "metadata": {},
   "source": [
    "### 2.1 Train Data Missing Values in Column Embarked"
   ]
  },
  {
   "cell_type": "code",
   "execution_count": 21,
   "metadata": {
    "scrolled": true
   },
   "outputs": [
    {
     "data": {
      "text/html": [
       "<div>\n",
       "<style>\n",
       "    .dataframe thead tr:only-child th {\n",
       "        text-align: right;\n",
       "    }\n",
       "\n",
       "    .dataframe thead th {\n",
       "        text-align: left;\n",
       "    }\n",
       "\n",
       "    .dataframe tbody tr th {\n",
       "        vertical-align: top;\n",
       "    }\n",
       "</style>\n",
       "<table border=\"1\" class=\"dataframe\">\n",
       "  <thead>\n",
       "    <tr style=\"text-align: right;\">\n",
       "      <th></th>\n",
       "      <th>PassengerId</th>\n",
       "      <th>Survived</th>\n",
       "      <th>Pclass</th>\n",
       "      <th>Name</th>\n",
       "      <th>Sex</th>\n",
       "      <th>Age</th>\n",
       "      <th>SibSp</th>\n",
       "      <th>Parch</th>\n",
       "      <th>Ticket</th>\n",
       "      <th>Fare</th>\n",
       "      <th>Cabin</th>\n",
       "      <th>Embarked</th>\n",
       "    </tr>\n",
       "  </thead>\n",
       "  <tbody>\n",
       "    <tr>\n",
       "      <th>61</th>\n",
       "      <td>62</td>\n",
       "      <td>1</td>\n",
       "      <td>1</td>\n",
       "      <td>Icard, Miss. Amelie</td>\n",
       "      <td>female</td>\n",
       "      <td>38.0</td>\n",
       "      <td>0</td>\n",
       "      <td>0</td>\n",
       "      <td>113572</td>\n",
       "      <td>80.0</td>\n",
       "      <td>B28</td>\n",
       "      <td>NaN</td>\n",
       "    </tr>\n",
       "    <tr>\n",
       "      <th>829</th>\n",
       "      <td>830</td>\n",
       "      <td>1</td>\n",
       "      <td>1</td>\n",
       "      <td>Stone, Mrs. George Nelson (Martha Evelyn)</td>\n",
       "      <td>female</td>\n",
       "      <td>62.0</td>\n",
       "      <td>0</td>\n",
       "      <td>0</td>\n",
       "      <td>113572</td>\n",
       "      <td>80.0</td>\n",
       "      <td>B28</td>\n",
       "      <td>NaN</td>\n",
       "    </tr>\n",
       "  </tbody>\n",
       "</table>\n",
       "</div>"
      ],
      "text/plain": [
       "     PassengerId  Survived  Pclass                                       Name  \\\n",
       "61            62         1       1                        Icard, Miss. Amelie   \n",
       "829          830         1       1  Stone, Mrs. George Nelson (Martha Evelyn)   \n",
       "\n",
       "        Sex   Age  SibSp  Parch  Ticket  Fare Cabin Embarked  \n",
       "61   female  38.0      0      0  113572  80.0   B28      NaN  \n",
       "829  female  62.0      0      0  113572  80.0   B28      NaN  "
      ]
     },
     "execution_count": 21,
     "metadata": {},
     "output_type": "execute_result"
    }
   ],
   "source": [
    "train[train[\"Embarked\"].isnull()]\n",
    "# both passengers 61 and 829 don't have embark value\n",
    "# however both of them are survived and in class 1"
   ]
  },
  {
   "cell_type": "code",
   "execution_count": 22,
   "metadata": {
    "scrolled": false
   },
   "outputs": [
    {
     "data": {
      "text/plain": [
       "<matplotlib.axes._subplots.AxesSubplot at 0x7fb32546d5c0>"
      ]
     },
     "execution_count": 22,
     "metadata": {},
     "output_type": "execute_result"
    },
    {
     "data": {
      "image/png": "[encoded data removed]",
      "text/plain": [
       "<matplotlib.figure.Figure at 0x7fb32503e550>"
      ]
     },
     "metadata": {},
     "output_type": "display_data"
    }
   ],
   "source": [
    "# plot the fare vs embark values for all the classes\n",
    "sns.boxplot(x=\"Embarked\", y=\"Fare\", hue=\"Pclass\", data=train)\n",
    "# embarked 'C' has median value of close to $80 and for 1st class"
   ]
  },
  {
   "cell_type": "code",
   "execution_count": 23,
   "metadata": {
    "collapsed": true
   },
   "outputs": [],
   "source": [
    "# Cherbourg has a Fare closer to 80\n",
    "\n",
    "train[\"Embarked\"] = train[\"Embarked\"].fillna('Cherbourg')"
   ]
  },
  {
   "cell_type": "markdown",
   "metadata": {},
   "source": [
    "### 2.2 Test Data Missing Values in Columns Fare "
   ]
  },
  {
   "cell_type": "code",
   "execution_count": 24,
   "metadata": {
    "scrolled": false
   },
   "outputs": [
    {
     "data": {
      "text/html": [
       "<div>\n",
       "<style>\n",
       "    .dataframe thead tr:only-child th {\n",
       "        text-align: right;\n",
       "    }\n",
       "\n",
       "    .dataframe thead th {\n",
       "        text-align: left;\n",
       "    }\n",
       "\n",
       "    .dataframe tbody tr th {\n",
       "        vertical-align: top;\n",
       "    }\n",
       "</style>\n",
       "<table border=\"1\" class=\"dataframe\">\n",
       "  <thead>\n",
       "    <tr style=\"text-align: right;\">\n",
       "      <th></th>\n",
       "      <th>PassengerId</th>\n",
       "      <th>Pclass</th>\n",
       "      <th>Name</th>\n",
       "      <th>Sex</th>\n",
       "      <th>Age</th>\n",
       "      <th>SibSp</th>\n",
       "      <th>Parch</th>\n",
       "      <th>Ticket</th>\n",
       "      <th>Fare</th>\n",
       "      <th>Cabin</th>\n",
       "      <th>Embarked</th>\n",
       "    </tr>\n",
       "  </thead>\n",
       "  <tbody>\n",
       "    <tr>\n",
       "      <th>152</th>\n",
       "      <td>1044</td>\n",
       "      <td>3</td>\n",
       "      <td>Storey, Mr. Thomas</td>\n",
       "      <td>male</td>\n",
       "      <td>60.5</td>\n",
       "      <td>0</td>\n",
       "      <td>0</td>\n",
       "      <td>3701</td>\n",
       "      <td>NaN</td>\n",
       "      <td>NaN</td>\n",
       "      <td>Southhampton</td>\n",
       "    </tr>\n",
       "  </tbody>\n",
       "</table>\n",
       "</div>"
      ],
      "text/plain": [
       "     PassengerId  Pclass                Name   Sex   Age  SibSp  Parch Ticket  \\\n",
       "152         1044       3  Storey, Mr. Thomas  male  60.5      0      0   3701   \n",
       "\n",
       "     Fare Cabin      Embarked  \n",
       "152   NaN   NaN  Southhampton  "
      ]
     },
     "execution_count": 24,
     "metadata": {},
     "output_type": "execute_result"
    }
   ],
   "source": [
    "test[test['Fare'].isnull()]"
   ]
  },
  {
   "cell_type": "code",
   "execution_count": 25,
   "metadata": {
    "collapsed": true
   },
   "outputs": [],
   "source": [
    "# This passenger is in class 3, Embarked from 'Southhampton'\n",
    "# We'll take the median value for that category and repalce for the missing value\n",
    "median_fair = test[(test[\"Pclass\"] == 3) & (test[\"Embarked\"] == \"Southhampton\")]['Fare'].median()\n",
    "test[\"Fare\"] = test[\"Fare\"].fillna(median_fair)"
   ]
  },
  {
   "cell_type": "code",
   "execution_count": 26,
   "metadata": {
    "scrolled": true
   },
   "outputs": [
    {
     "data": {
      "text/html": [
       "<div>\n",
       "<style>\n",
       "    .dataframe thead tr:only-child th {\n",
       "        text-align: right;\n",
       "    }\n",
       "\n",
       "    .dataframe thead th {\n",
       "        text-align: left;\n",
       "    }\n",
       "\n",
       "    .dataframe tbody tr th {\n",
       "        vertical-align: top;\n",
       "    }\n",
       "</style>\n",
       "<table border=\"1\" class=\"dataframe\">\n",
       "  <thead>\n",
       "    <tr style=\"text-align: right;\">\n",
       "      <th></th>\n",
       "      <th>Train</th>\n",
       "      <th>Test</th>\n",
       "    </tr>\n",
       "  </thead>\n",
       "  <tbody>\n",
       "    <tr>\n",
       "      <th>Age</th>\n",
       "      <td>177</td>\n",
       "      <td>86.0</td>\n",
       "    </tr>\n",
       "    <tr>\n",
       "      <th>Cabin</th>\n",
       "      <td>687</td>\n",
       "      <td>327.0</td>\n",
       "    </tr>\n",
       "    <tr>\n",
       "      <th>Embarked</th>\n",
       "      <td>0</td>\n",
       "      <td>0.0</td>\n",
       "    </tr>\n",
       "    <tr>\n",
       "      <th>Fare</th>\n",
       "      <td>0</td>\n",
       "      <td>0.0</td>\n",
       "    </tr>\n",
       "    <tr>\n",
       "      <th>Name</th>\n",
       "      <td>0</td>\n",
       "      <td>0.0</td>\n",
       "    </tr>\n",
       "    <tr>\n",
       "      <th>Parch</th>\n",
       "      <td>0</td>\n",
       "      <td>0.0</td>\n",
       "    </tr>\n",
       "    <tr>\n",
       "      <th>PassengerId</th>\n",
       "      <td>0</td>\n",
       "      <td>0.0</td>\n",
       "    </tr>\n",
       "    <tr>\n",
       "      <th>Pclass</th>\n",
       "      <td>0</td>\n",
       "      <td>0.0</td>\n",
       "    </tr>\n",
       "    <tr>\n",
       "      <th>Sex</th>\n",
       "      <td>0</td>\n",
       "      <td>0.0</td>\n",
       "    </tr>\n",
       "    <tr>\n",
       "      <th>SibSp</th>\n",
       "      <td>0</td>\n",
       "      <td>0.0</td>\n",
       "    </tr>\n",
       "    <tr>\n",
       "      <th>Survived</th>\n",
       "      <td>0</td>\n",
       "      <td>NaN</td>\n",
       "    </tr>\n",
       "    <tr>\n",
       "      <th>Ticket</th>\n",
       "      <td>0</td>\n",
       "      <td>0.0</td>\n",
       "    </tr>\n",
       "  </tbody>\n",
       "</table>\n",
       "</div>"
      ],
      "text/plain": [
       "             Train   Test\n",
       "Age            177   86.0\n",
       "Cabin          687  327.0\n",
       "Embarked         0    0.0\n",
       "Fare             0    0.0\n",
       "Name             0    0.0\n",
       "Parch            0    0.0\n",
       "PassengerId      0    0.0\n",
       "Pclass           0    0.0\n",
       "Sex              0    0.0\n",
       "SibSp            0    0.0\n",
       "Survived         0    NaN\n",
       "Ticket           0    0.0"
      ]
     },
     "execution_count": 26,
     "metadata": {},
     "output_type": "execute_result"
    }
   ],
   "source": [
    "# Calculate the missing values in each column in both testing and training\n",
    "missing_train = train.isnull().sum().sort_values(ascending=False)\n",
    "missing_test = test.isnull().sum().sort_values(ascending=False)\n",
    "missing_values = pd.concat([missing_train,missing_test], axis=1, keys=[\"Train\",\"Test\"])\n",
    "missing_values"
   ]
  },
  {
   "cell_type": "markdown",
   "metadata": {},
   "source": [
    "### 1.3 Expectation Maximization"
   ]
  },
  {
   "cell_type": "code",
   "execution_count": 27,
   "metadata": {},
   "outputs": [
    {
     "data": {
      "text/plain": [
       "(array([ 0.01579561,  0.00987226,  0.00592335,  0.01283393,  0.0078978 ,\n",
       "         0.00493613,  0.0078978 ,  0.00987226,  0.00296168,  0.00691058,\n",
       "         0.00296168,  0.01283393,  0.00592335,  0.01974451,  0.01382116,\n",
       "         0.03159122,  0.03159122,  0.02171896,  0.05429741,  0.01875729,\n",
       "         0.03356567,  0.03257844,  0.02665509,  0.02270619,  0.03356567,\n",
       "         0.02764232,  0.04936128,  0.02270619,  0.01875729,  0.02665509,\n",
       "         0.02073174,  0.02862954,  0.00987226,  0.02961677,  0.01678283,\n",
       "         0.00987226,  0.01480838,  0.00691058,  0.01184671,  0.01480838,\n",
       "         0.01283393,  0.01579561,  0.00691058,  0.01085948,  0.00987226,\n",
       "         0.0078978 ,  0.00098723,  0.00888503,  0.00691058,  0.00197445,\n",
       "         0.00493613,  0.0039489 ,  0.00592335,  0.00296168,  0.0039489 ,\n",
       "         0.0039489 ,  0.00296168,  0.00098723,  0.00098723,  0.00098723,\n",
       "         0.        ,  0.00296168,  0.00296168,  0.        ,  0.00197445,\n",
       "         0.        ,  0.        ,  0.        ,  0.        ,  0.00098723]),\n",
       " array([  0.42      ,   1.55685714,   2.69371429,   3.83057143,\n",
       "          4.96742857,   6.10428571,   7.24114286,   8.378     ,\n",
       "          9.51485714,  10.65171429,  11.78857143,  12.92542857,\n",
       "         14.06228571,  15.19914286,  16.336     ,  17.47285714,\n",
       "         18.60971429,  19.74657143,  20.88342857,  22.02028571,\n",
       "         23.15714286,  24.294     ,  25.43085714,  26.56771429,\n",
       "         27.70457143,  28.84142857,  29.97828571,  31.11514286,\n",
       "         32.252     ,  33.38885714,  34.52571429,  35.66257143,\n",
       "         36.79942857,  37.93628571,  39.07314286,  40.21      ,\n",
       "         41.34685714,  42.48371429,  43.62057143,  44.75742857,\n",
       "         45.89428571,  47.03114286,  48.168     ,  49.30485714,\n",
       "         50.44171429,  51.57857143,  52.71542857,  53.85228571,\n",
       "         54.98914286,  56.126     ,  57.26285714,  58.39971429,\n",
       "         59.53657143,  60.67342857,  61.81028571,  62.94714286,\n",
       "         64.084     ,  65.22085714,  66.35771429,  67.49457143,\n",
       "         68.63142857,  69.76828571,  70.90514286,  72.042     ,\n",
       "         73.17885714,  74.31571429,  75.45257143,  76.58942857,\n",
       "         77.72628571,  78.86314286,  80.        ]),\n",
       " <a list of 70 Patch objects>)"
      ]
     },
     "execution_count": 27,
     "metadata": {},
     "output_type": "execute_result"
    },
    {
     "data": {
      "image/png": "[encoded data removed]",
      "text/plain": [
       "<matplotlib.figure.Figure at 0x7fb324e7dd30>"
      ]
     },
     "metadata": {},
     "output_type": "display_data"
    }
   ],
   "source": [
    "from sklearn import mixture\n",
    "\n",
    "# lets use Expectation maximization to fil the age imputation\n",
    "# sklearn implements the EM algorithm with GMM\n",
    "\n",
    "fig, (axis1,axis2) = plt.subplots(1,2,figsize=(15,4))\n",
    "axis1.set_title('Original Age values (Train) ')\n",
    "axis2.set_title('New Age values (Train)')\n",
    "\n",
    "null_values = train['Age'].dropna().astype(int)\n",
    "axis1.hist(null_values,70,normed=True)\n",
    "\n",
    "X = train['Age'].dropna()\n",
    "X = X.values.reshape(-1,1)\n",
    "\n",
    "clf = mixture.GaussianMixture(n_components=2).fit(X) # fit 2 gaussians \n",
    "\n",
    "Y1 = train['Age'].isnull().sum()\n",
    "Y2 = test['Age'].isnull().sum()\n",
    "\n",
    "xpdf1 = np.linspace(0,80,Y1)\n",
    "xpdf1 = xpdf1.reshape(-1,1)\n",
    "xpdf2 = np.linspace(0,80,Y2)\n",
    "xpdf2 = xpdf2.reshape(-1,1)\n",
    "\n",
    "\n",
    "density1 = np.exp(clf.score_samples(xpdf1))\n",
    "axis1.plot(xpdf1,density1,'-r')\n",
    "\n",
    "x1,y1 = clf.sample(Y1)\n",
    "x2,y2 = clf.sample(Y2)\n",
    "\n",
    "train['Age'][np.isnan(train['Age'])] = np.absolute(x1)\n",
    "test['Age'][np.isnan(test['Age'])] = np.absolute(x2)\n",
    "\n",
    "axis2.hist(train['Age'],70,normed=True)\n",
    "\n",
    "# in the figure below we can see that the density fucntion is a good \n",
    "# approximate for the data\n",
    "# We use this gmm to miss the missing values"
   ]
  },
  {
   "cell_type": "code",
   "execution_count": 28,
   "metadata": {
    "scrolled": true
   },
   "outputs": [
    {
     "data": {
      "text/plain": [
       "<seaborn.axisgrid.FacetGrid at 0x7fb324ee7e48>"
      ]
     },
     "execution_count": 28,
     "metadata": {},
     "output_type": "execute_result"
    },
    {
     "data": {
      "image/png": "[encoded data removed]",
      "text/plain": [
       "<matplotlib.figure.Figure at 0x7fb324ee7eb8>"
      ]
     },
     "metadata": {},
     "output_type": "display_data"
    }
   ],
   "source": [
    "# Age Distribution\n",
    "\n",
    "facet = sns.FacetGrid(train, hue=\"Survived\",aspect=4)\n",
    "facet.map(sns.kdeplot,'Age',shade= True)\n",
    "facet.set(xlim=(0, train['Age'].max()))\n",
    "facet.add_legend()"
   ]
  },
  {
   "cell_type": "code",
   "execution_count": 29,
   "metadata": {
    "scrolled": false
   },
   "outputs": [
    {
     "data": {
      "text/plain": [
       "PassengerId    0.118091\n",
       "Survived      -0.074440\n",
       "Pclass        -0.307678\n",
       "Age            1.000000\n",
       "SibSp         -0.222814\n",
       "Parch         -0.157862\n",
       "Fare           0.076307\n",
       "Name: Age, dtype: float64"
      ]
     },
     "execution_count": 29,
     "metadata": {},
     "output_type": "execute_result"
    }
   ],
   "source": [
    "train.corr()[\"Age\"]\n",
    "# train.corr()['Deck']"
   ]
  },
  {
   "cell_type": "markdown",
   "metadata": {},
   "source": [
    "### 1.4 Distribution Correlation for Fare"
   ]
  },
  {
   "cell_type": "code",
   "execution_count": 30,
   "metadata": {
    "scrolled": true
   },
   "outputs": [
    {
     "data": {
      "text/plain": [
       "array([nan, 'C', 'E', 'G', 'D', 'A', 'B', 'F', 'T'], dtype=object)"
      ]
     },
     "execution_count": 30,
     "metadata": {},
     "output_type": "execute_result"
    }
   ],
   "source": [
    "train['Deck'] = train.Cabin.str[0]\n",
    "test['Deck'] = test.Cabin.str[0]\n",
    "train['Deck'].unique() # 0 is for null values"
   ]
  },
  {
   "cell_type": "code",
   "execution_count": 31,
   "metadata": {
    "scrolled": true
   },
   "outputs": [
    {
     "data": {
      "image/png": "[encoded data removed]",
      "text/plain": [
       "<matplotlib.figure.Figure at 0x7fb32523e0f0>"
      ]
     },
     "metadata": {},
     "output_type": "display_data"
    }
   ],
   "source": [
    "# Deck distribution with Fare and Embarked\n",
    "\n",
    "train = train.assign(Deck=train.Deck.astype(object))\n",
    "g = sns.FacetGrid(train, col=\"Embarked\", sharex=False,\n",
    "                  gridspec_kws={\"width_ratios\": [5, 3, 3]})\n",
    "g.map(sns.boxplot, \"Deck\", \"Fare\");"
   ]
  },
  {
   "cell_type": "code",
   "execution_count": 32,
   "metadata": {
    "scrolled": true
   },
   "outputs": [
    {
     "data": {
      "image/png": "[encoded data removed]",
      "text/plain": [
       "<matplotlib.figure.Figure at 0x7fb31f7e2a20>"
      ]
     },
     "metadata": {},
     "output_type": "display_data"
    }
   ],
   "source": [
    "# Which class were in which Decks\n",
    "\n",
    "train = train.assign(Deck=train.Deck.astype(object))\n",
    "g = sns.FacetGrid(train, col=\"Pclass\", sharex=False,\n",
    "                  gridspec_kws={\"width_ratios\": [5, 3, 3]})\n",
    "g.map(sns.boxplot, \"Fare\", \"Deck\");"
   ]
  },
  {
   "cell_type": "code",
   "execution_count": 33,
   "metadata": {},
   "outputs": [
    {
     "name": "stdout",
     "output_type": "stream",
     "text": [
      "First class price: $84.15468749999992\n",
      "Second class price: $20.66218315217391\n",
      "Thrid class price: $13.675550101832997\n"
     ]
    }
   ],
   "source": [
    "# mean Fare for each class\n",
    "\n",
    "first_class_price = train[(train[\"Pclass\"] == 1)]['Fare'].mean()\n",
    "print(\"First class price: $%s\" % first_class_price) #lets say USD\n",
    "\n",
    "second_class_price = train[(train[\"Pclass\"] == 2)]['Fare'].mean()\n",
    "print(\"Second class price: $%s\" % second_class_price) #lets say USD\n",
    "\n",
    "thrid_class_price = train[(train[\"Pclass\"] == 3)]['Fare'].mean()\n",
    "print(\"Thrid class price: $%s\" % thrid_class_price) #lets say USD"
   ]
  },
  {
   "cell_type": "code",
   "execution_count": 34,
   "metadata": {},
   "outputs": [
    {
     "data": {
      "text/plain": [
       "array(['C', 'E', 'A', nan, 'B', 'D', 'T'], dtype=object)"
      ]
     },
     "execution_count": 34,
     "metadata": {},
     "output_type": "execute_result"
    }
   ],
   "source": [
    "# 1st class decks\n",
    "first_class_decks =  train.loc[(train[\"Pclass\"] == 1), 'Deck'].unique()\n",
    "first_class_decks"
   ]
  },
  {
   "cell_type": "code",
   "execution_count": 35,
   "metadata": {},
   "outputs": [
    {
     "data": {
      "text/plain": [
       "array([nan, 'D', 'F', 'E'], dtype=object)"
      ]
     },
     "execution_count": 35,
     "metadata": {},
     "output_type": "execute_result"
    }
   ],
   "source": [
    "# 2nd class decks\n",
    "second_class_decks =  train.loc[(train[\"Pclass\"] == 2), 'Deck'].unique()\n",
    "second_class_decks"
   ]
  },
  {
   "cell_type": "code",
   "execution_count": 36,
   "metadata": {},
   "outputs": [
    {
     "data": {
      "text/plain": [
       "array([nan, 'G', 'F', 'E'], dtype=object)"
      ]
     },
     "execution_count": 36,
     "metadata": {},
     "output_type": "execute_result"
    }
   ],
   "source": [
    "# 3rd class decks\n",
    "third_class_decks =  train.loc[(train[\"Pclass\"] == 3), 'Deck'].unique()\n",
    "third_class_decks"
   ]
  },
  {
   "cell_type": "code",
   "execution_count": 37,
   "metadata": {
    "collapsed": true
   },
   "outputs": [],
   "source": [
    "# Assigm decks based on the class\n",
    "\n",
    "train.loc[(train['Deck'].isnull()) & (train['Pclass'] == 1), 'Deck'] = 'A'\n",
    "train.loc[(train['Deck'].isnull()) & (train['Pclass'] == 2), 'Deck'] = 'D'\n",
    "train.loc[(train['Deck'].isnull()) & (train['Pclass'] == 3), 'Deck'] = 'G'\n",
    "\n",
    "test.loc[(test['Deck'].isnull()) & (test['Pclass'] == 1), 'Deck'] = 'A'\n",
    "test.loc[(test['Deck'].isnull()) & (test['Pclass'] == 2), 'Deck'] = 'D'\n",
    "test.loc[(test['Deck'].isnull()) & (test['Pclass'] == 3), 'Deck'] = 'G'\n",
    "\n",
    "train.drop(['Cabin'],axis=1,inplace=True)\n",
    "test.drop(['Cabin'],axis=1,inplace=True)"
   ]
  },
  {
   "cell_type": "code",
   "execution_count": 38,
   "metadata": {
    "scrolled": true
   },
   "outputs": [
    {
     "data": {
      "text/html": [
       "<div>\n",
       "<style>\n",
       "    .dataframe thead tr:only-child th {\n",
       "        text-align: right;\n",
       "    }\n",
       "\n",
       "    .dataframe thead th {\n",
       "        text-align: left;\n",
       "    }\n",
       "\n",
       "    .dataframe tbody tr th {\n",
       "        vertical-align: top;\n",
       "    }\n",
       "</style>\n",
       "<table border=\"1\" class=\"dataframe\">\n",
       "  <thead>\n",
       "    <tr style=\"text-align: right;\">\n",
       "      <th></th>\n",
       "      <th>Train</th>\n",
       "      <th>Test</th>\n",
       "    </tr>\n",
       "  </thead>\n",
       "  <tbody>\n",
       "    <tr>\n",
       "      <th>Age</th>\n",
       "      <td>0</td>\n",
       "      <td>0.0</td>\n",
       "    </tr>\n",
       "    <tr>\n",
       "      <th>Deck</th>\n",
       "      <td>0</td>\n",
       "      <td>0.0</td>\n",
       "    </tr>\n",
       "    <tr>\n",
       "      <th>Embarked</th>\n",
       "      <td>0</td>\n",
       "      <td>0.0</td>\n",
       "    </tr>\n",
       "    <tr>\n",
       "      <th>Fare</th>\n",
       "      <td>0</td>\n",
       "      <td>0.0</td>\n",
       "    </tr>\n",
       "    <tr>\n",
       "      <th>Name</th>\n",
       "      <td>0</td>\n",
       "      <td>0.0</td>\n",
       "    </tr>\n",
       "    <tr>\n",
       "      <th>Parch</th>\n",
       "      <td>0</td>\n",
       "      <td>0.0</td>\n",
       "    </tr>\n",
       "    <tr>\n",
       "      <th>PassengerId</th>\n",
       "      <td>0</td>\n",
       "      <td>0.0</td>\n",
       "    </tr>\n",
       "    <tr>\n",
       "      <th>Pclass</th>\n",
       "      <td>0</td>\n",
       "      <td>0.0</td>\n",
       "    </tr>\n",
       "    <tr>\n",
       "      <th>Sex</th>\n",
       "      <td>0</td>\n",
       "      <td>0.0</td>\n",
       "    </tr>\n",
       "    <tr>\n",
       "      <th>SibSp</th>\n",
       "      <td>0</td>\n",
       "      <td>0.0</td>\n",
       "    </tr>\n",
       "    <tr>\n",
       "      <th>Survived</th>\n",
       "      <td>0</td>\n",
       "      <td>NaN</td>\n",
       "    </tr>\n",
       "    <tr>\n",
       "      <th>Ticket</th>\n",
       "      <td>0</td>\n",
       "      <td>0.0</td>\n",
       "    </tr>\n",
       "  </tbody>\n",
       "</table>\n",
       "</div>"
      ],
      "text/plain": [
       "             Train  Test\n",
       "Age              0   0.0\n",
       "Deck             0   0.0\n",
       "Embarked         0   0.0\n",
       "Fare             0   0.0\n",
       "Name             0   0.0\n",
       "Parch            0   0.0\n",
       "PassengerId      0   0.0\n",
       "Pclass           0   0.0\n",
       "Sex              0   0.0\n",
       "SibSp            0   0.0\n",
       "Survived         0   NaN\n",
       "Ticket           0   0.0"
      ]
     },
     "execution_count": 38,
     "metadata": {},
     "output_type": "execute_result"
    }
   ],
   "source": [
    "# Calculate the missing values in each column in both testing and training\n",
    "\n",
    "missing_train = train.isnull().sum().sort_values(ascending=False)\n",
    "missing_test = test.isnull().sum().sort_values(ascending=False)\n",
    "missing_values = pd.concat([missing_train,missing_test], axis=1, keys=[\"Train\",\"Test\"])\n",
    "missing_values\n",
    "\n",
    "# No missing values"
   ]
  },
  {
   "cell_type": "markdown",
   "metadata": {},
   "source": [
    "# 3.0 Feature Engineering"
   ]
  },
  {
   "cell_type": "markdown",
   "metadata": {},
   "source": [
    "### 3.1 Create the Family Feature"
   ]
  },
  {
   "cell_type": "code",
   "execution_count": 39,
   "metadata": {},
   "outputs": [
    {
     "data": {
      "text/html": [
       "<div>\n",
       "<style>\n",
       "    .dataframe thead tr:only-child th {\n",
       "        text-align: right;\n",
       "    }\n",
       "\n",
       "    .dataframe thead th {\n",
       "        text-align: left;\n",
       "    }\n",
       "\n",
       "    .dataframe tbody tr th {\n",
       "        vertical-align: top;\n",
       "    }\n",
       "</style>\n",
       "<table border=\"1\" class=\"dataframe\">\n",
       "  <thead>\n",
       "    <tr style=\"text-align: right;\">\n",
       "      <th></th>\n",
       "      <th>PassengerId</th>\n",
       "      <th>Survived</th>\n",
       "      <th>Pclass</th>\n",
       "      <th>Name</th>\n",
       "      <th>Sex</th>\n",
       "      <th>Age</th>\n",
       "      <th>SibSp</th>\n",
       "      <th>Parch</th>\n",
       "      <th>Ticket</th>\n",
       "      <th>Fare</th>\n",
       "      <th>Embarked</th>\n",
       "      <th>Deck</th>\n",
       "    </tr>\n",
       "  </thead>\n",
       "  <tbody>\n",
       "    <tr>\n",
       "      <th>0</th>\n",
       "      <td>1</td>\n",
       "      <td>0</td>\n",
       "      <td>3</td>\n",
       "      <td>Braund, Mr. Owen Harris</td>\n",
       "      <td>male</td>\n",
       "      <td>22.0</td>\n",
       "      <td>1</td>\n",
       "      <td>0</td>\n",
       "      <td>A/5 21171</td>\n",
       "      <td>7.2500</td>\n",
       "      <td>Southhampton</td>\n",
       "      <td>G</td>\n",
       "    </tr>\n",
       "    <tr>\n",
       "      <th>1</th>\n",
       "      <td>2</td>\n",
       "      <td>1</td>\n",
       "      <td>1</td>\n",
       "      <td>Cumings, Mrs. John Bradley (Florence Briggs Th...</td>\n",
       "      <td>female</td>\n",
       "      <td>38.0</td>\n",
       "      <td>1</td>\n",
       "      <td>0</td>\n",
       "      <td>PC 17599</td>\n",
       "      <td>71.2833</td>\n",
       "      <td>Cherbourg</td>\n",
       "      <td>C</td>\n",
       "    </tr>\n",
       "    <tr>\n",
       "      <th>2</th>\n",
       "      <td>3</td>\n",
       "      <td>1</td>\n",
       "      <td>3</td>\n",
       "      <td>Heikkinen, Miss. Laina</td>\n",
       "      <td>female</td>\n",
       "      <td>26.0</td>\n",
       "      <td>0</td>\n",
       "      <td>0</td>\n",
       "      <td>STON/O2. 3101282</td>\n",
       "      <td>7.9250</td>\n",
       "      <td>Southhampton</td>\n",
       "      <td>G</td>\n",
       "    </tr>\n",
       "    <tr>\n",
       "      <th>3</th>\n",
       "      <td>4</td>\n",
       "      <td>1</td>\n",
       "      <td>1</td>\n",
       "      <td>Futrelle, Mrs. Jacques Heath (Lily May Peel)</td>\n",
       "      <td>female</td>\n",
       "      <td>35.0</td>\n",
       "      <td>1</td>\n",
       "      <td>0</td>\n",
       "      <td>113803</td>\n",
       "      <td>53.1000</td>\n",
       "      <td>Southhampton</td>\n",
       "      <td>C</td>\n",
       "    </tr>\n",
       "    <tr>\n",
       "      <th>4</th>\n",
       "      <td>5</td>\n",
       "      <td>0</td>\n",
       "      <td>3</td>\n",
       "      <td>Allen, Mr. William Henry</td>\n",
       "      <td>male</td>\n",
       "      <td>35.0</td>\n",
       "      <td>0</td>\n",
       "      <td>0</td>\n",
       "      <td>373450</td>\n",
       "      <td>8.0500</td>\n",
       "      <td>Southhampton</td>\n",
       "      <td>G</td>\n",
       "    </tr>\n",
       "  </tbody>\n",
       "</table>\n",
       "</div>"
      ],
      "text/plain": [
       "   PassengerId  Survived  Pclass  \\\n",
       "0            1         0       3   \n",
       "1            2         1       1   \n",
       "2            3         1       3   \n",
       "3            4         1       1   \n",
       "4            5         0       3   \n",
       "\n",
       "                                                Name     Sex   Age  SibSp  \\\n",
       "0                            Braund, Mr. Owen Harris    male  22.0      1   \n",
       "1  Cumings, Mrs. John Bradley (Florence Briggs Th...  female  38.0      1   \n",
       "2                             Heikkinen, Miss. Laina  female  26.0      0   \n",
       "3       Futrelle, Mrs. Jacques Heath (Lily May Peel)  female  35.0      1   \n",
       "4                           Allen, Mr. William Henry    male  35.0      0   \n",
       "\n",
       "   Parch            Ticket     Fare      Embarked Deck  \n",
       "0      0         A/5 21171   7.2500  Southhampton    G  \n",
       "1      0          PC 17599  71.2833     Cherbourg    C  \n",
       "2      0  STON/O2. 3101282   7.9250  Southhampton    G  \n",
       "3      0            113803  53.1000  Southhampton    C  \n",
       "4      0            373450   8.0500  Southhampton    G  "
      ]
     },
     "execution_count": 39,
     "metadata": {},
     "output_type": "execute_result"
    }
   ],
   "source": [
    "train.head()"
   ]
  },
  {
   "cell_type": "code",
   "execution_count": 40,
   "metadata": {
    "collapsed": true
   },
   "outputs": [],
   "source": [
    "# Family If there is parents, siblings or spouse onboard \n",
    "train['Family'] = train['Parch'] + train['SibSp']\n",
    "train['Family'].loc[train['Family'] > 0] = 1\n",
    "train['Family'].loc[train['Family'] == 0] = 0\n",
    "\n",
    "test['Family'] = test['Parch'] + test['SibSp']\n",
    "test['Family'].loc[test['Family'] > 0] = 1\n",
    "test['Family'].loc[test['Family'] == 0] = 0"
   ]
  },
  {
   "cell_type": "code",
   "execution_count": 41,
   "metadata": {},
   "outputs": [
    {
     "data": {
      "text/html": [
       "<div>\n",
       "<style>\n",
       "    .dataframe thead tr:only-child th {\n",
       "        text-align: right;\n",
       "    }\n",
       "\n",
       "    .dataframe thead th {\n",
       "        text-align: left;\n",
       "    }\n",
       "\n",
       "    .dataframe tbody tr th {\n",
       "        vertical-align: top;\n",
       "    }\n",
       "</style>\n",
       "<table border=\"1\" class=\"dataframe\">\n",
       "  <thead>\n",
       "    <tr style=\"text-align: right;\">\n",
       "      <th></th>\n",
       "      <th>PassengerId</th>\n",
       "      <th>Survived</th>\n",
       "      <th>Pclass</th>\n",
       "      <th>Name</th>\n",
       "      <th>Sex</th>\n",
       "      <th>Age</th>\n",
       "      <th>SibSp</th>\n",
       "      <th>Parch</th>\n",
       "      <th>Ticket</th>\n",
       "      <th>Fare</th>\n",
       "      <th>Embarked</th>\n",
       "      <th>Deck</th>\n",
       "      <th>Family</th>\n",
       "    </tr>\n",
       "  </thead>\n",
       "  <tbody>\n",
       "    <tr>\n",
       "      <th>0</th>\n",
       "      <td>1</td>\n",
       "      <td>0</td>\n",
       "      <td>3</td>\n",
       "      <td>Braund, Mr. Owen Harris</td>\n",
       "      <td>male</td>\n",
       "      <td>22.0</td>\n",
       "      <td>1</td>\n",
       "      <td>0</td>\n",
       "      <td>A/5 21171</td>\n",
       "      <td>7.2500</td>\n",
       "      <td>Southhampton</td>\n",
       "      <td>G</td>\n",
       "      <td>1</td>\n",
       "    </tr>\n",
       "    <tr>\n",
       "      <th>1</th>\n",
       "      <td>2</td>\n",
       "      <td>1</td>\n",
       "      <td>1</td>\n",
       "      <td>Cumings, Mrs. John Bradley (Florence Briggs Th...</td>\n",
       "      <td>female</td>\n",
       "      <td>38.0</td>\n",
       "      <td>1</td>\n",
       "      <td>0</td>\n",
       "      <td>PC 17599</td>\n",
       "      <td>71.2833</td>\n",
       "      <td>Cherbourg</td>\n",
       "      <td>C</td>\n",
       "      <td>1</td>\n",
       "    </tr>\n",
       "    <tr>\n",
       "      <th>2</th>\n",
       "      <td>3</td>\n",
       "      <td>1</td>\n",
       "      <td>3</td>\n",
       "      <td>Heikkinen, Miss. Laina</td>\n",
       "      <td>female</td>\n",
       "      <td>26.0</td>\n",
       "      <td>0</td>\n",
       "      <td>0</td>\n",
       "      <td>STON/O2. 3101282</td>\n",
       "      <td>7.9250</td>\n",
       "      <td>Southhampton</td>\n",
       "      <td>G</td>\n",
       "      <td>0</td>\n",
       "    </tr>\n",
       "    <tr>\n",
       "      <th>3</th>\n",
       "      <td>4</td>\n",
       "      <td>1</td>\n",
       "      <td>1</td>\n",
       "      <td>Futrelle, Mrs. Jacques Heath (Lily May Peel)</td>\n",
       "      <td>female</td>\n",
       "      <td>35.0</td>\n",
       "      <td>1</td>\n",
       "      <td>0</td>\n",
       "      <td>113803</td>\n",
       "      <td>53.1000</td>\n",
       "      <td>Southhampton</td>\n",
       "      <td>C</td>\n",
       "      <td>1</td>\n",
       "    </tr>\n",
       "    <tr>\n",
       "      <th>4</th>\n",
       "      <td>5</td>\n",
       "      <td>0</td>\n",
       "      <td>3</td>\n",
       "      <td>Allen, Mr. William Henry</td>\n",
       "      <td>male</td>\n",
       "      <td>35.0</td>\n",
       "      <td>0</td>\n",
       "      <td>0</td>\n",
       "      <td>373450</td>\n",
       "      <td>8.0500</td>\n",
       "      <td>Southhampton</td>\n",
       "      <td>G</td>\n",
       "      <td>0</td>\n",
       "    </tr>\n",
       "  </tbody>\n",
       "</table>\n",
       "</div>"
      ],
      "text/plain": [
       "   PassengerId  Survived  Pclass  \\\n",
       "0            1         0       3   \n",
       "1            2         1       1   \n",
       "2            3         1       3   \n",
       "3            4         1       1   \n",
       "4            5         0       3   \n",
       "\n",
       "                                                Name     Sex   Age  SibSp  \\\n",
       "0                            Braund, Mr. Owen Harris    male  22.0      1   \n",
       "1  Cumings, Mrs. John Bradley (Florence Briggs Th...  female  38.0      1   \n",
       "2                             Heikkinen, Miss. Laina  female  26.0      0   \n",
       "3       Futrelle, Mrs. Jacques Heath (Lily May Peel)  female  35.0      1   \n",
       "4                           Allen, Mr. William Henry    male  35.0      0   \n",
       "\n",
       "   Parch            Ticket     Fare      Embarked Deck  Family  \n",
       "0      0         A/5 21171   7.2500  Southhampton    G       1  \n",
       "1      0          PC 17599  71.2833     Cherbourg    C       1  \n",
       "2      0  STON/O2. 3101282   7.9250  Southhampton    G       0  \n",
       "3      0            113803  53.1000  Southhampton    C       1  \n",
       "4      0            373450   8.0500  Southhampton    G       0  "
      ]
     },
     "execution_count": 41,
     "metadata": {},
     "output_type": "execute_result"
    }
   ],
   "source": [
    "train.head()"
   ]
  },
  {
   "cell_type": "code",
   "execution_count": 42,
   "metadata": {},
   "outputs": [
    {
     "data": {
      "text/plain": [
       "<matplotlib.legend.Legend at 0x7fb31f8b1438>"
      ]
     },
     "execution_count": 42,
     "metadata": {},
     "output_type": "execute_result"
    },
    {
     "data": {
      "image/png": "[encoded data removed]",
      "text/plain": [
       "<matplotlib.figure.Figure at 0x7fb31f265470>"
      ]
     },
     "metadata": {},
     "output_type": "display_data"
    }
   ],
   "source": [
    "# Survival by Family \n",
    "\n",
    "survived_by_family = pd.crosstab(train[\"Survived\"],train[\"Family\"])\n",
    "ax1,ax2 = survived_by_family.plot(kind='pie',title=\"Survived by with Family\",legend=True,subplots=True, autopct='%1.0f%%',labels=None)\n",
    "\n",
    "ax1.legend(['Survived', 'Not Survived'],loc='upper left',bbox_to_anchor=(-0.4, 1.))"
   ]
  },
  {
   "cell_type": "code",
   "execution_count": 43,
   "metadata": {
    "collapsed": true
   },
   "outputs": [],
   "source": [
    "# Having a family could wither be in SibSp or Parch\n",
    "# So we can drop those 2 columns\n",
    "train.drop(['SibSp','Parch'],axis=1,inplace=True)\n",
    "test.drop(['SibSp','Parch'],axis=1,inplace=True)"
   ]
  },
  {
   "cell_type": "code",
   "execution_count": 44,
   "metadata": {},
   "outputs": [
    {
     "data": {
      "text/html": [
       "<div>\n",
       "<style>\n",
       "    .dataframe thead tr:only-child th {\n",
       "        text-align: right;\n",
       "    }\n",
       "\n",
       "    .dataframe thead th {\n",
       "        text-align: left;\n",
       "    }\n",
       "\n",
       "    .dataframe tbody tr th {\n",
       "        vertical-align: top;\n",
       "    }\n",
       "</style>\n",
       "<table border=\"1\" class=\"dataframe\">\n",
       "  <thead>\n",
       "    <tr style=\"text-align: right;\">\n",
       "      <th></th>\n",
       "      <th>PassengerId</th>\n",
       "      <th>Survived</th>\n",
       "      <th>Pclass</th>\n",
       "      <th>Name</th>\n",
       "      <th>Sex</th>\n",
       "      <th>Age</th>\n",
       "      <th>Ticket</th>\n",
       "      <th>Fare</th>\n",
       "      <th>Embarked</th>\n",
       "      <th>Deck</th>\n",
       "      <th>Family</th>\n",
       "    </tr>\n",
       "  </thead>\n",
       "  <tbody>\n",
       "    <tr>\n",
       "      <th>0</th>\n",
       "      <td>1</td>\n",
       "      <td>0</td>\n",
       "      <td>3</td>\n",
       "      <td>Braund, Mr. Owen Harris</td>\n",
       "      <td>male</td>\n",
       "      <td>22.0</td>\n",
       "      <td>A/5 21171</td>\n",
       "      <td>7.2500</td>\n",
       "      <td>Southhampton</td>\n",
       "      <td>G</td>\n",
       "      <td>1</td>\n",
       "    </tr>\n",
       "    <tr>\n",
       "      <th>1</th>\n",
       "      <td>2</td>\n",
       "      <td>1</td>\n",
       "      <td>1</td>\n",
       "      <td>Cumings, Mrs. John Bradley (Florence Briggs Th...</td>\n",
       "      <td>female</td>\n",
       "      <td>38.0</td>\n",
       "      <td>PC 17599</td>\n",
       "      <td>71.2833</td>\n",
       "      <td>Cherbourg</td>\n",
       "      <td>C</td>\n",
       "      <td>1</td>\n",
       "    </tr>\n",
       "    <tr>\n",
       "      <th>2</th>\n",
       "      <td>3</td>\n",
       "      <td>1</td>\n",
       "      <td>3</td>\n",
       "      <td>Heikkinen, Miss. Laina</td>\n",
       "      <td>female</td>\n",
       "      <td>26.0</td>\n",
       "      <td>STON/O2. 3101282</td>\n",
       "      <td>7.9250</td>\n",
       "      <td>Southhampton</td>\n",
       "      <td>G</td>\n",
       "      <td>0</td>\n",
       "    </tr>\n",
       "    <tr>\n",
       "      <th>3</th>\n",
       "      <td>4</td>\n",
       "      <td>1</td>\n",
       "      <td>1</td>\n",
       "      <td>Futrelle, Mrs. Jacques Heath (Lily May Peel)</td>\n",
       "      <td>female</td>\n",
       "      <td>35.0</td>\n",
       "      <td>113803</td>\n",
       "      <td>53.1000</td>\n",
       "      <td>Southhampton</td>\n",
       "      <td>C</td>\n",
       "      <td>1</td>\n",
       "    </tr>\n",
       "    <tr>\n",
       "      <th>4</th>\n",
       "      <td>5</td>\n",
       "      <td>0</td>\n",
       "      <td>3</td>\n",
       "      <td>Allen, Mr. William Henry</td>\n",
       "      <td>male</td>\n",
       "      <td>35.0</td>\n",
       "      <td>373450</td>\n",
       "      <td>8.0500</td>\n",
       "      <td>Southhampton</td>\n",
       "      <td>G</td>\n",
       "      <td>0</td>\n",
       "    </tr>\n",
       "  </tbody>\n",
       "</table>\n",
       "</div>"
      ],
      "text/plain": [
       "   PassengerId  Survived  Pclass  \\\n",
       "0            1         0       3   \n",
       "1            2         1       1   \n",
       "2            3         1       3   \n",
       "3            4         1       1   \n",
       "4            5         0       3   \n",
       "\n",
       "                                                Name     Sex   Age  \\\n",
       "0                            Braund, Mr. Owen Harris    male  22.0   \n",
       "1  Cumings, Mrs. John Bradley (Florence Briggs Th...  female  38.0   \n",
       "2                             Heikkinen, Miss. Laina  female  26.0   \n",
       "3       Futrelle, Mrs. Jacques Heath (Lily May Peel)  female  35.0   \n",
       "4                           Allen, Mr. William Henry    male  35.0   \n",
       "\n",
       "             Ticket     Fare      Embarked Deck  Family  \n",
       "0         A/5 21171   7.2500  Southhampton    G       1  \n",
       "1          PC 17599  71.2833     Cherbourg    C       1  \n",
       "2  STON/O2. 3101282   7.9250  Southhampton    G       0  \n",
       "3            113803  53.1000  Southhampton    C       1  \n",
       "4            373450   8.0500  Southhampton    G       0  "
      ]
     },
     "execution_count": 44,
     "metadata": {},
     "output_type": "execute_result"
    }
   ],
   "source": [
    "train.head()"
   ]
  },
  {
   "cell_type": "markdown",
   "metadata": {},
   "source": [
    "### 3.2 Create a Title Feature"
   ]
  },
  {
   "cell_type": "code",
   "execution_count": 45,
   "metadata": {},
   "outputs": [
    {
     "data": {
      "text/html": [
       "<div>\n",
       "<style>\n",
       "    .dataframe thead tr:only-child th {\n",
       "        text-align: right;\n",
       "    }\n",
       "\n",
       "    .dataframe thead th {\n",
       "        text-align: left;\n",
       "    }\n",
       "\n",
       "    .dataframe tbody tr th {\n",
       "        vertical-align: top;\n",
       "    }\n",
       "</style>\n",
       "<table border=\"1\" class=\"dataframe\">\n",
       "  <thead>\n",
       "    <tr style=\"text-align: right;\">\n",
       "      <th>Sex</th>\n",
       "      <th>female</th>\n",
       "      <th>male</th>\n",
       "    </tr>\n",
       "    <tr>\n",
       "      <th>Title</th>\n",
       "      <th></th>\n",
       "      <th></th>\n",
       "    </tr>\n",
       "  </thead>\n",
       "  <tbody>\n",
       "    <tr>\n",
       "      <th>Capt</th>\n",
       "      <td>0</td>\n",
       "      <td>1</td>\n",
       "    </tr>\n",
       "    <tr>\n",
       "      <th>Col</th>\n",
       "      <td>0</td>\n",
       "      <td>2</td>\n",
       "    </tr>\n",
       "    <tr>\n",
       "      <th>Countess</th>\n",
       "      <td>1</td>\n",
       "      <td>0</td>\n",
       "    </tr>\n",
       "    <tr>\n",
       "      <th>Don</th>\n",
       "      <td>0</td>\n",
       "      <td>1</td>\n",
       "    </tr>\n",
       "    <tr>\n",
       "      <th>Dr</th>\n",
       "      <td>1</td>\n",
       "      <td>6</td>\n",
       "    </tr>\n",
       "    <tr>\n",
       "      <th>Jonkheer</th>\n",
       "      <td>0</td>\n",
       "      <td>1</td>\n",
       "    </tr>\n",
       "    <tr>\n",
       "      <th>Lady</th>\n",
       "      <td>1</td>\n",
       "      <td>0</td>\n",
       "    </tr>\n",
       "    <tr>\n",
       "      <th>Major</th>\n",
       "      <td>0</td>\n",
       "      <td>2</td>\n",
       "    </tr>\n",
       "    <tr>\n",
       "      <th>Master</th>\n",
       "      <td>0</td>\n",
       "      <td>40</td>\n",
       "    </tr>\n",
       "    <tr>\n",
       "      <th>Miss</th>\n",
       "      <td>182</td>\n",
       "      <td>0</td>\n",
       "    </tr>\n",
       "    <tr>\n",
       "      <th>Mlle</th>\n",
       "      <td>2</td>\n",
       "      <td>0</td>\n",
       "    </tr>\n",
       "    <tr>\n",
       "      <th>Mme</th>\n",
       "      <td>1</td>\n",
       "      <td>0</td>\n",
       "    </tr>\n",
       "    <tr>\n",
       "      <th>Mr</th>\n",
       "      <td>0</td>\n",
       "      <td>517</td>\n",
       "    </tr>\n",
       "    <tr>\n",
       "      <th>Mrs</th>\n",
       "      <td>125</td>\n",
       "      <td>0</td>\n",
       "    </tr>\n",
       "    <tr>\n",
       "      <th>Ms</th>\n",
       "      <td>1</td>\n",
       "      <td>0</td>\n",
       "    </tr>\n",
       "    <tr>\n",
       "      <th>Rev</th>\n",
       "      <td>0</td>\n",
       "      <td>6</td>\n",
       "    </tr>\n",
       "    <tr>\n",
       "      <th>Sir</th>\n",
       "      <td>0</td>\n",
       "      <td>1</td>\n",
       "    </tr>\n",
       "  </tbody>\n",
       "</table>\n",
       "</div>"
      ],
      "text/plain": [
       "Sex       female  male\n",
       "Title                 \n",
       "Capt           0     1\n",
       "Col            0     2\n",
       "Countess       1     0\n",
       "Don            0     1\n",
       "Dr             1     6\n",
       "Jonkheer       0     1\n",
       "Lady           1     0\n",
       "Major          0     2\n",
       "Master         0    40\n",
       "Miss         182     0\n",
       "Mlle           2     0\n",
       "Mme            1     0\n",
       "Mr             0   517\n",
       "Mrs          125     0\n",
       "Ms             1     0\n",
       "Rev            0     6\n",
       "Sir            0     1"
      ]
     },
     "execution_count": 45,
     "metadata": {},
     "output_type": "execute_result"
    }
   ],
   "source": [
    "import re\n",
    "\n",
    "train['Title'] = train['Name'].str.extract(' ([A-Za-z]+)\\.', expand=False)\n",
    "test['Title'] = test['Name'].str.extract(' ([A-Za-z]+)\\.', expand=False)\n",
    "\n",
    "# Titles\n",
    "pd.crosstab(train['Title'], train['Sex'])"
   ]
  },
  {
   "cell_type": "code",
   "execution_count": 46,
   "metadata": {
    "collapsed": true
   },
   "outputs": [],
   "source": [
    "def replaceRateTitle(df):\n",
    "    rare_title = ['Dona', 'Lady', 'Countess','Capt', 'Col', 'Don', \n",
    "                'Dr', 'Major', 'Rev', 'Sir', 'Jonkheer']\n",
    "    df.loc[df[\"Title\"] == \"Mlle\", \"Title\"] = 'Miss'\n",
    "    df.loc[df[\"Title\"] == \"Ms\", \"Title\"] = 'Miss'\n",
    "    df.loc[df[\"Title\"] == \"Mme\", \"Title\"] = 'Mrs'\n",
    "    df.loc[df[\"Title\"] == \"Dona\", \"Title\"] = 'Rare Title'\n",
    "    df.loc[df[\"Title\"] == \"Lady\", \"Title\"] = 'Rare Title'\n",
    "    df.loc[df[\"Title\"] == \"Countess\", \"Title\"] = 'Rare Title'\n",
    "    df.loc[df[\"Title\"] == \"Capt\", \"Title\"] = 'Rare Title'\n",
    "    df.loc[df[\"Title\"] == \"Col\", \"Title\"] = 'Rare Title'\n",
    "    df.loc[df[\"Title\"] == \"Don\", \"Title\"] = 'Rare Title'\n",
    "    df.loc[df[\"Title\"] == \"Major\", \"Title\"] = 'Rare Title'\n",
    "    df.loc[df[\"Title\"] == \"Rev\", \"Title\"] = 'Rare Title'\n",
    "    df.loc[df[\"Title\"] == \"Sir\", \"Title\"] = 'Rare Title'\n",
    "    df.loc[df[\"Title\"] == \"Jonkheer\", \"Title\"] = 'Rare Title'\n",
    "    df.loc[df[\"Title\"] == \"Dr\", \"Title\"] = 'Rare Title'\n",
    "    \n",
    "    return df    "
   ]
  },
  {
   "cell_type": "code",
   "execution_count": 47,
   "metadata": {},
   "outputs": [
    {
     "data": {
      "text/plain": [
       "Mr            517\n",
       "Miss          185\n",
       "Mrs           126\n",
       "Master         40\n",
       "Rare Title     23\n",
       "Name: Title, dtype: int64"
      ]
     },
     "execution_count": 47,
     "metadata": {},
     "output_type": "execute_result"
    }
   ],
   "source": [
    "train = replaceRateTitle(train)\n",
    "train[\"Title\"].value_counts()"
   ]
  },
  {
   "cell_type": "code",
   "execution_count": 48,
   "metadata": {
    "scrolled": true
   },
   "outputs": [
    {
     "data": {
      "text/plain": [
       "Mr            240\n",
       "Miss           79\n",
       "Mrs            72\n",
       "Master         21\n",
       "Rare Title      6\n",
       "Name: Title, dtype: int64"
      ]
     },
     "execution_count": 48,
     "metadata": {},
     "output_type": "execute_result"
    }
   ],
   "source": [
    "test = replaceRateTitle(test)\n",
    "test['Title'].value_counts()"
   ]
  },
  {
   "cell_type": "code",
   "execution_count": 49,
   "metadata": {
    "scrolled": true
   },
   "outputs": [
    {
     "data": {
      "text/html": [
       "<div>\n",
       "<style>\n",
       "    .dataframe thead tr:only-child th {\n",
       "        text-align: right;\n",
       "    }\n",
       "\n",
       "    .dataframe thead th {\n",
       "        text-align: left;\n",
       "    }\n",
       "\n",
       "    .dataframe tbody tr th {\n",
       "        vertical-align: top;\n",
       "    }\n",
       "</style>\n",
       "<table border=\"1\" class=\"dataframe\">\n",
       "  <thead>\n",
       "    <tr style=\"text-align: right;\">\n",
       "      <th></th>\n",
       "      <th>PassengerId</th>\n",
       "      <th>Survived</th>\n",
       "      <th>Pclass</th>\n",
       "      <th>Name</th>\n",
       "      <th>Sex</th>\n",
       "      <th>Age</th>\n",
       "      <th>Ticket</th>\n",
       "      <th>Fare</th>\n",
       "      <th>Embarked</th>\n",
       "      <th>Deck</th>\n",
       "      <th>Family</th>\n",
       "      <th>Title</th>\n",
       "    </tr>\n",
       "  </thead>\n",
       "  <tbody>\n",
       "    <tr>\n",
       "      <th>0</th>\n",
       "      <td>1</td>\n",
       "      <td>0</td>\n",
       "      <td>3</td>\n",
       "      <td>Braund, Mr. Owen Harris</td>\n",
       "      <td>male</td>\n",
       "      <td>22.0</td>\n",
       "      <td>A/5 21171</td>\n",
       "      <td>7.2500</td>\n",
       "      <td>Southhampton</td>\n",
       "      <td>G</td>\n",
       "      <td>1</td>\n",
       "      <td>Mr</td>\n",
       "    </tr>\n",
       "    <tr>\n",
       "      <th>1</th>\n",
       "      <td>2</td>\n",
       "      <td>1</td>\n",
       "      <td>1</td>\n",
       "      <td>Cumings, Mrs. John Bradley (Florence Briggs Th...</td>\n",
       "      <td>female</td>\n",
       "      <td>38.0</td>\n",
       "      <td>PC 17599</td>\n",
       "      <td>71.2833</td>\n",
       "      <td>Cherbourg</td>\n",
       "      <td>C</td>\n",
       "      <td>1</td>\n",
       "      <td>Mrs</td>\n",
       "    </tr>\n",
       "    <tr>\n",
       "      <th>2</th>\n",
       "      <td>3</td>\n",
       "      <td>1</td>\n",
       "      <td>3</td>\n",
       "      <td>Heikkinen, Miss. Laina</td>\n",
       "      <td>female</td>\n",
       "      <td>26.0</td>\n",
       "      <td>STON/O2. 3101282</td>\n",
       "      <td>7.9250</td>\n",
       "      <td>Southhampton</td>\n",
       "      <td>G</td>\n",
       "      <td>0</td>\n",
       "      <td>Miss</td>\n",
       "    </tr>\n",
       "    <tr>\n",
       "      <th>3</th>\n",
       "      <td>4</td>\n",
       "      <td>1</td>\n",
       "      <td>1</td>\n",
       "      <td>Futrelle, Mrs. Jacques Heath (Lily May Peel)</td>\n",
       "      <td>female</td>\n",
       "      <td>35.0</td>\n",
       "      <td>113803</td>\n",
       "      <td>53.1000</td>\n",
       "      <td>Southhampton</td>\n",
       "      <td>C</td>\n",
       "      <td>1</td>\n",
       "      <td>Mrs</td>\n",
       "    </tr>\n",
       "    <tr>\n",
       "      <th>4</th>\n",
       "      <td>5</td>\n",
       "      <td>0</td>\n",
       "      <td>3</td>\n",
       "      <td>Allen, Mr. William Henry</td>\n",
       "      <td>male</td>\n",
       "      <td>35.0</td>\n",
       "      <td>373450</td>\n",
       "      <td>8.0500</td>\n",
       "      <td>Southhampton</td>\n",
       "      <td>G</td>\n",
       "      <td>0</td>\n",
       "      <td>Mr</td>\n",
       "    </tr>\n",
       "  </tbody>\n",
       "</table>\n",
       "</div>"
      ],
      "text/plain": [
       "   PassengerId  Survived  Pclass  \\\n",
       "0            1         0       3   \n",
       "1            2         1       1   \n",
       "2            3         1       3   \n",
       "3            4         1       1   \n",
       "4            5         0       3   \n",
       "\n",
       "                                                Name     Sex   Age  \\\n",
       "0                            Braund, Mr. Owen Harris    male  22.0   \n",
       "1  Cumings, Mrs. John Bradley (Florence Briggs Th...  female  38.0   \n",
       "2                             Heikkinen, Miss. Laina  female  26.0   \n",
       "3       Futrelle, Mrs. Jacques Heath (Lily May Peel)  female  35.0   \n",
       "4                           Allen, Mr. William Henry    male  35.0   \n",
       "\n",
       "             Ticket     Fare      Embarked Deck  Family Title  \n",
       "0         A/5 21171   7.2500  Southhampton    G       1    Mr  \n",
       "1          PC 17599  71.2833     Cherbourg    C       1   Mrs  \n",
       "2  STON/O2. 3101282   7.9250  Southhampton    G       0  Miss  \n",
       "3            113803  53.1000  Southhampton    C       1   Mrs  \n",
       "4            373450   8.0500  Southhampton    G       0    Mr  "
      ]
     },
     "execution_count": 49,
     "metadata": {},
     "output_type": "execute_result"
    }
   ],
   "source": [
    "train.head()"
   ]
  },
  {
   "cell_type": "markdown",
   "metadata": {},
   "source": [
    "### 3.3 Create Name Length"
   ]
  },
  {
   "cell_type": "code",
   "execution_count": 50,
   "metadata": {
    "collapsed": true
   },
   "outputs": [],
   "source": [
    "# Name Length\n",
    "train['Name_Length'] = train['Name'].apply(len)\n",
    "test['Name_Length'] = test['Name'].apply(len)\n",
    "\n",
    "train.drop(['Name'],axis=1,inplace=True)\n",
    "test.drop(['Name'],axis=1,inplace=True)"
   ]
  },
  {
   "cell_type": "markdown",
   "metadata": {},
   "source": [
    "### 3.4 Create Ticket Numbers"
   ]
  },
  {
   "cell_type": "code",
   "execution_count": 51,
   "metadata": {
    "collapsed": true
   },
   "outputs": [],
   "source": [
    "# Create ticket numbers\n",
    "\n",
    "train[\"TicketNumber\"] = train[\"Ticket\"].str.extract('(\\d{2,})', expand=True)\n",
    "train[\"TicketNumber\"] = train[\"TicketNumber\"].apply(pd.to_numeric)\n",
    "\n",
    "test[\"TicketNumber\"] = test[\"Ticket\"].str.extract('(\\d{2,})', expand=True)\n",
    "test[\"TicketNumber\"] = test[\"TicketNumber\"].apply(pd.to_numeric)\n",
    "\n",
    "train.TicketNumber.fillna(train[\"TicketNumber\"].median(), inplace=True)\n",
    "test.TicketNumber.fillna(test[\"TicketNumber\"].median(), inplace=True)\n",
    "\n",
    "train.drop(['Ticket','PassengerId'],axis=1,inplace=True)\n",
    "test.drop(['Ticket','PassengerId'],axis=1,inplace=True)"
   ]
  },
  {
   "cell_type": "code",
   "execution_count": 52,
   "metadata": {
    "scrolled": true
   },
   "outputs": [
    {
     "data": {
      "text/html": [
       "<div>\n",
       "<style>\n",
       "    .dataframe thead tr:only-child th {\n",
       "        text-align: right;\n",
       "    }\n",
       "\n",
       "    .dataframe thead th {\n",
       "        text-align: left;\n",
       "    }\n",
       "\n",
       "    .dataframe tbody tr th {\n",
       "        vertical-align: top;\n",
       "    }\n",
       "</style>\n",
       "<table border=\"1\" class=\"dataframe\">\n",
       "  <thead>\n",
       "    <tr style=\"text-align: right;\">\n",
       "      <th></th>\n",
       "      <th>Survived</th>\n",
       "      <th>Pclass</th>\n",
       "      <th>Sex</th>\n",
       "      <th>Age</th>\n",
       "      <th>Fare</th>\n",
       "      <th>Embarked</th>\n",
       "      <th>Deck</th>\n",
       "      <th>Family</th>\n",
       "      <th>Title</th>\n",
       "      <th>Name_Length</th>\n",
       "      <th>TicketNumber</th>\n",
       "    </tr>\n",
       "  </thead>\n",
       "  <tbody>\n",
       "    <tr>\n",
       "      <th>0</th>\n",
       "      <td>0</td>\n",
       "      <td>3</td>\n",
       "      <td>male</td>\n",
       "      <td>22.0</td>\n",
       "      <td>7.2500</td>\n",
       "      <td>Southhampton</td>\n",
       "      <td>G</td>\n",
       "      <td>1</td>\n",
       "      <td>Mr</td>\n",
       "      <td>23</td>\n",
       "      <td>21171.0</td>\n",
       "    </tr>\n",
       "    <tr>\n",
       "      <th>1</th>\n",
       "      <td>1</td>\n",
       "      <td>1</td>\n",
       "      <td>female</td>\n",
       "      <td>38.0</td>\n",
       "      <td>71.2833</td>\n",
       "      <td>Cherbourg</td>\n",
       "      <td>C</td>\n",
       "      <td>1</td>\n",
       "      <td>Mrs</td>\n",
       "      <td>51</td>\n",
       "      <td>17599.0</td>\n",
       "    </tr>\n",
       "    <tr>\n",
       "      <th>2</th>\n",
       "      <td>1</td>\n",
       "      <td>3</td>\n",
       "      <td>female</td>\n",
       "      <td>26.0</td>\n",
       "      <td>7.9250</td>\n",
       "      <td>Southhampton</td>\n",
       "      <td>G</td>\n",
       "      <td>0</td>\n",
       "      <td>Miss</td>\n",
       "      <td>22</td>\n",
       "      <td>3101282.0</td>\n",
       "    </tr>\n",
       "    <tr>\n",
       "      <th>3</th>\n",
       "      <td>1</td>\n",
       "      <td>1</td>\n",
       "      <td>female</td>\n",
       "      <td>35.0</td>\n",
       "      <td>53.1000</td>\n",
       "      <td>Southhampton</td>\n",
       "      <td>C</td>\n",
       "      <td>1</td>\n",
       "      <td>Mrs</td>\n",
       "      <td>44</td>\n",
       "      <td>113803.0</td>\n",
       "    </tr>\n",
       "    <tr>\n",
       "      <th>4</th>\n",
       "      <td>0</td>\n",
       "      <td>3</td>\n",
       "      <td>male</td>\n",
       "      <td>35.0</td>\n",
       "      <td>8.0500</td>\n",
       "      <td>Southhampton</td>\n",
       "      <td>G</td>\n",
       "      <td>0</td>\n",
       "      <td>Mr</td>\n",
       "      <td>24</td>\n",
       "      <td>373450.0</td>\n",
       "    </tr>\n",
       "  </tbody>\n",
       "</table>\n",
       "</div>"
      ],
      "text/plain": [
       "   Survived  Pclass     Sex   Age     Fare      Embarked Deck  Family Title  \\\n",
       "0         0       3    male  22.0   7.2500  Southhampton    G       1    Mr   \n",
       "1         1       1  female  38.0  71.2833     Cherbourg    C       1   Mrs   \n",
       "2         1       3  female  26.0   7.9250  Southhampton    G       0  Miss   \n",
       "3         1       1  female  35.0  53.1000  Southhampton    C       1   Mrs   \n",
       "4         0       3    male  35.0   8.0500  Southhampton    G       0    Mr   \n",
       "\n",
       "   Name_Length  TicketNumber  \n",
       "0           23       21171.0  \n",
       "1           51       17599.0  \n",
       "2           22     3101282.0  \n",
       "3           44      113803.0  \n",
       "4           24      373450.0  "
      ]
     },
     "execution_count": 52,
     "metadata": {},
     "output_type": "execute_result"
    }
   ],
   "source": [
    "train.head()"
   ]
  },
  {
   "cell_type": "code",
   "execution_count": 53,
   "metadata": {
    "scrolled": true
   },
   "outputs": [
    {
     "data": {
      "text/plain": [
       "Survived       -0.096161\n",
       "Pclass          0.284631\n",
       "Age            -0.093632\n",
       "Fare           -0.156104\n",
       "Family         -0.037374\n",
       "Name_Length    -0.050760\n",
       "TicketNumber    1.000000\n",
       "Name: TicketNumber, dtype: float64"
      ]
     },
     "execution_count": 53,
     "metadata": {},
     "output_type": "execute_result"
    }
   ],
   "source": [
    "train.corr()[\"TicketNumber\"]\n",
    "# the only correlation is with the class"
   ]
  },
  {
   "cell_type": "code",
   "execution_count": 54,
   "metadata": {},
   "outputs": [
    {
     "name": "stdout",
     "output_type": "stream",
     "text": [
      "Number of unique 1st class tickets 146\n",
      "Number of unique 2nd class tickets 140\n",
      "Number of unique 3rd class tickets 140\n"
     ]
    }
   ],
   "source": [
    "first_class_tickets =  train.loc[(train[\"Pclass\"] == 1), 'TicketNumber'].unique()\n",
    "print(\"Number of unique 1st class tickets\", len(first_class_tickets))\n",
    "\n",
    "second_class_tickets =  train.loc[(train[\"Pclass\"] == 2), 'TicketNumber'].unique()\n",
    "print(\"Number of unique 2nd class tickets\", len(second_class_tickets))\n",
    "\n",
    "thrid_class_tickets =  train.loc[(train[\"Pclass\"] == 2), 'TicketNumber'].unique()\n",
    "print(\"Number of unique 3rd class tickets\" , len(thrid_class_tickets))"
   ]
  },
  {
   "cell_type": "code",
   "execution_count": 55,
   "metadata": {
    "collapsed": true
   },
   "outputs": [],
   "source": [
    "# Ticket number has a correlation with the class\n",
    "# since there are many ticket numbers and it not a discrete value \n",
    "# we'll drop this column\n",
    "\n",
    "train.drop(['TicketNumber'],axis=1,inplace=True)\n",
    "test.drop(['TicketNumber'],axis=1,inplace=True)"
   ]
  },
  {
   "cell_type": "code",
   "execution_count": 56,
   "metadata": {
    "scrolled": false
   },
   "outputs": [
    {
     "data": {
      "text/html": [
       "<div>\n",
       "<style>\n",
       "    .dataframe thead tr:only-child th {\n",
       "        text-align: right;\n",
       "    }\n",
       "\n",
       "    .dataframe thead th {\n",
       "        text-align: left;\n",
       "    }\n",
       "\n",
       "    .dataframe tbody tr th {\n",
       "        vertical-align: top;\n",
       "    }\n",
       "</style>\n",
       "<table border=\"1\" class=\"dataframe\">\n",
       "  <thead>\n",
       "    <tr style=\"text-align: right;\">\n",
       "      <th></th>\n",
       "      <th>Survived</th>\n",
       "      <th>Pclass</th>\n",
       "      <th>Sex</th>\n",
       "      <th>Age</th>\n",
       "      <th>Fare</th>\n",
       "      <th>Embarked</th>\n",
       "      <th>Deck</th>\n",
       "      <th>Family</th>\n",
       "      <th>Title</th>\n",
       "      <th>Name_Length</th>\n",
       "    </tr>\n",
       "  </thead>\n",
       "  <tbody>\n",
       "    <tr>\n",
       "      <th>0</th>\n",
       "      <td>0</td>\n",
       "      <td>3</td>\n",
       "      <td>male</td>\n",
       "      <td>22.0</td>\n",
       "      <td>7.2500</td>\n",
       "      <td>Southhampton</td>\n",
       "      <td>G</td>\n",
       "      <td>1</td>\n",
       "      <td>Mr</td>\n",
       "      <td>23</td>\n",
       "    </tr>\n",
       "    <tr>\n",
       "      <th>1</th>\n",
       "      <td>1</td>\n",
       "      <td>1</td>\n",
       "      <td>female</td>\n",
       "      <td>38.0</td>\n",
       "      <td>71.2833</td>\n",
       "      <td>Cherbourg</td>\n",
       "      <td>C</td>\n",
       "      <td>1</td>\n",
       "      <td>Mrs</td>\n",
       "      <td>51</td>\n",
       "    </tr>\n",
       "    <tr>\n",
       "      <th>2</th>\n",
       "      <td>1</td>\n",
       "      <td>3</td>\n",
       "      <td>female</td>\n",
       "      <td>26.0</td>\n",
       "      <td>7.9250</td>\n",
       "      <td>Southhampton</td>\n",
       "      <td>G</td>\n",
       "      <td>0</td>\n",
       "      <td>Miss</td>\n",
       "      <td>22</td>\n",
       "    </tr>\n",
       "    <tr>\n",
       "      <th>3</th>\n",
       "      <td>1</td>\n",
       "      <td>1</td>\n",
       "      <td>female</td>\n",
       "      <td>35.0</td>\n",
       "      <td>53.1000</td>\n",
       "      <td>Southhampton</td>\n",
       "      <td>C</td>\n",
       "      <td>1</td>\n",
       "      <td>Mrs</td>\n",
       "      <td>44</td>\n",
       "    </tr>\n",
       "    <tr>\n",
       "      <th>4</th>\n",
       "      <td>0</td>\n",
       "      <td>3</td>\n",
       "      <td>male</td>\n",
       "      <td>35.0</td>\n",
       "      <td>8.0500</td>\n",
       "      <td>Southhampton</td>\n",
       "      <td>G</td>\n",
       "      <td>0</td>\n",
       "      <td>Mr</td>\n",
       "      <td>24</td>\n",
       "    </tr>\n",
       "  </tbody>\n",
       "</table>\n",
       "</div>"
      ],
      "text/plain": [
       "   Survived  Pclass     Sex   Age     Fare      Embarked Deck  Family Title  \\\n",
       "0         0       3    male  22.0   7.2500  Southhampton    G       1    Mr   \n",
       "1         1       1  female  38.0  71.2833     Cherbourg    C       1   Mrs   \n",
       "2         1       3  female  26.0   7.9250  Southhampton    G       0  Miss   \n",
       "3         1       1  female  35.0  53.1000  Southhampton    C       1   Mrs   \n",
       "4         0       3    male  35.0   8.0500  Southhampton    G       0    Mr   \n",
       "\n",
       "   Name_Length  \n",
       "0           23  \n",
       "1           51  \n",
       "2           22  \n",
       "3           44  \n",
       "4           24  "
      ]
     },
     "execution_count": 56,
     "metadata": {},
     "output_type": "execute_result"
    }
   ],
   "source": [
    "train.head()"
   ]
  },
  {
   "cell_type": "code",
   "execution_count": 57,
   "metadata": {},
   "outputs": [
    {
     "data": {
      "text/plain": [
       "(82, 12)"
      ]
     },
     "execution_count": 57,
     "metadata": {},
     "output_type": "execute_result"
    }
   ],
   "source": [
    "train[\"Name_Length\"].max(), train[\"Name_Length\"].min()"
   ]
  },
  {
   "cell_type": "markdown",
   "metadata": {},
   "source": [
    "### 3.5 Create Bins using Name Length"
   ]
  },
  {
   "cell_type": "code",
   "execution_count": 58,
   "metadata": {
    "scrolled": true
   },
   "outputs": [
    {
     "name": "stdout",
     "output_type": "stream",
     "text": [
      "[mid, long, short, extra_long]\n",
      "Categories (4, object): [short < mid < long < extra_long]\n"
     ]
    },
    {
     "data": {
      "image/png": "[encoded data removed]",
      "text/plain": [
       "<matplotlib.figure.Figure at 0x7fb32854e710>"
      ]
     },
     "metadata": {},
     "output_type": "display_data"
    }
   ],
   "source": [
    "bins = [0, 20, 40, 57, 85]\n",
    "group_names = ['short', 'mid', 'long', 'extra_long']\n",
    "train['Name_Length_Bins'] = pd.cut(train['Name_Length'], bins, labels=group_names)\n",
    "test['Name_Length_Bins'] = pd.cut(test['Name_Length'], bins, labels=group_names)\n",
    "\n",
    "sns.factorplot(x=\"Name_Length_Bins\", y=\"Survived\", data=train)\n",
    "print(train[\"Name_Length_Bins\"].unique())"
   ]
  },
  {
   "cell_type": "code",
   "execution_count": 59,
   "metadata": {
    "collapsed": true
   },
   "outputs": [],
   "source": [
    "train.drop(['Name_Length'],axis=1,inplace=True)\n",
    "test.drop(['Name_Length'],axis=1,inplace=True)"
   ]
  },
  {
   "cell_type": "markdown",
   "metadata": {},
   "source": [
    "### 3.6 Data Scaling"
   ]
  },
  {
   "cell_type": "code",
   "execution_count": 60,
   "metadata": {
    "collapsed": true
   },
   "outputs": [],
   "source": [
    "from sklearn.preprocessing import scale\n",
    "\n",
    "# Age and Fare in different scales\n",
    "cols = ['Age','Fare']\n",
    "\n",
    "for col in cols:\n",
    "    train[cols] = scale(train[cols])\n",
    "    test[cols] = scale(test[cols])"
   ]
  },
  {
   "cell_type": "markdown",
   "metadata": {},
   "source": [
    "### 3.7 Convert Categorical Data into Numerical Values"
   ]
  },
  {
   "cell_type": "code",
   "execution_count": 61,
   "metadata": {
    "collapsed": true
   },
   "outputs": [],
   "source": [
    "from sklearn.preprocessing import LabelEncoder,OneHotEncoder\n",
    "\n",
    "# convert the age bins into numerical value\n",
    "labelEnc=LabelEncoder()\n",
    "\n",
    "cat_vars=['Name_Length_Bins']\n",
    "for col in cat_vars:\n",
    "    train[col]=labelEnc.fit_transform(train[col])\n",
    "    test[col]=labelEnc.fit_transform(test[col])"
   ]
  },
  {
   "cell_type": "code",
   "execution_count": 62,
   "metadata": {
    "scrolled": false
   },
   "outputs": [
    {
     "data": {
      "text/html": [
       "<div>\n",
       "<style>\n",
       "    .dataframe thead tr:only-child th {\n",
       "        text-align: right;\n",
       "    }\n",
       "\n",
       "    .dataframe thead th {\n",
       "        text-align: left;\n",
       "    }\n",
       "\n",
       "    .dataframe tbody tr th {\n",
       "        vertical-align: top;\n",
       "    }\n",
       "</style>\n",
       "<table border=\"1\" class=\"dataframe\">\n",
       "  <thead>\n",
       "    <tr style=\"text-align: right;\">\n",
       "      <th></th>\n",
       "      <th>Survived</th>\n",
       "      <th>Pclass</th>\n",
       "      <th>Sex</th>\n",
       "      <th>Age</th>\n",
       "      <th>Fare</th>\n",
       "      <th>Embarked</th>\n",
       "      <th>Deck</th>\n",
       "      <th>Family</th>\n",
       "      <th>Title</th>\n",
       "      <th>Name_Length_Bins</th>\n",
       "    </tr>\n",
       "  </thead>\n",
       "  <tbody>\n",
       "    <tr>\n",
       "      <th>0</th>\n",
       "      <td>0</td>\n",
       "      <td>3</td>\n",
       "      <td>male</td>\n",
       "      <td>-0.534310</td>\n",
       "      <td>-0.502445</td>\n",
       "      <td>Southhampton</td>\n",
       "      <td>G</td>\n",
       "      <td>1</td>\n",
       "      <td>Mr</td>\n",
       "      <td>2</td>\n",
       "    </tr>\n",
       "    <tr>\n",
       "      <th>1</th>\n",
       "      <td>1</td>\n",
       "      <td>1</td>\n",
       "      <td>female</td>\n",
       "      <td>0.576252</td>\n",
       "      <td>0.786845</td>\n",
       "      <td>Cherbourg</td>\n",
       "      <td>C</td>\n",
       "      <td>1</td>\n",
       "      <td>Mrs</td>\n",
       "      <td>1</td>\n",
       "    </tr>\n",
       "    <tr>\n",
       "      <th>2</th>\n",
       "      <td>1</td>\n",
       "      <td>3</td>\n",
       "      <td>female</td>\n",
       "      <td>-0.256669</td>\n",
       "      <td>-0.488854</td>\n",
       "      <td>Southhampton</td>\n",
       "      <td>G</td>\n",
       "      <td>0</td>\n",
       "      <td>Miss</td>\n",
       "      <td>2</td>\n",
       "    </tr>\n",
       "    <tr>\n",
       "      <th>3</th>\n",
       "      <td>1</td>\n",
       "      <td>1</td>\n",
       "      <td>female</td>\n",
       "      <td>0.368022</td>\n",
       "      <td>0.420730</td>\n",
       "      <td>Southhampton</td>\n",
       "      <td>C</td>\n",
       "      <td>1</td>\n",
       "      <td>Mrs</td>\n",
       "      <td>1</td>\n",
       "    </tr>\n",
       "    <tr>\n",
       "      <th>4</th>\n",
       "      <td>0</td>\n",
       "      <td>3</td>\n",
       "      <td>male</td>\n",
       "      <td>0.368022</td>\n",
       "      <td>-0.486337</td>\n",
       "      <td>Southhampton</td>\n",
       "      <td>G</td>\n",
       "      <td>0</td>\n",
       "      <td>Mr</td>\n",
       "      <td>2</td>\n",
       "    </tr>\n",
       "  </tbody>\n",
       "</table>\n",
       "</div>"
      ],
      "text/plain": [
       "   Survived  Pclass     Sex       Age      Fare      Embarked Deck  Family  \\\n",
       "0         0       3    male -0.534310 -0.502445  Southhampton    G       1   \n",
       "1         1       1  female  0.576252  0.786845     Cherbourg    C       1   \n",
       "2         1       3  female -0.256669 -0.488854  Southhampton    G       0   \n",
       "3         1       1  female  0.368022  0.420730  Southhampton    C       1   \n",
       "4         0       3    male  0.368022 -0.486337  Southhampton    G       0   \n",
       "\n",
       "  Title  Name_Length_Bins  \n",
       "0    Mr                 2  \n",
       "1   Mrs                 1  \n",
       "2  Miss                 2  \n",
       "3   Mrs                 1  \n",
       "4    Mr                 2  "
      ]
     },
     "execution_count": 62,
     "metadata": {},
     "output_type": "execute_result"
    }
   ],
   "source": [
    "train.head()"
   ]
  },
  {
   "cell_type": "code",
   "execution_count": 63,
   "metadata": {
    "scrolled": false
   },
   "outputs": [
    {
     "data": {
      "text/html": [
       "<div>\n",
       "<style>\n",
       "    .dataframe thead tr:only-child th {\n",
       "        text-align: right;\n",
       "    }\n",
       "\n",
       "    .dataframe thead th {\n",
       "        text-align: left;\n",
       "    }\n",
       "\n",
       "    .dataframe tbody tr th {\n",
       "        vertical-align: top;\n",
       "    }\n",
       "</style>\n",
       "<table border=\"1\" class=\"dataframe\">\n",
       "  <thead>\n",
       "    <tr style=\"text-align: right;\">\n",
       "      <th></th>\n",
       "      <th>Pclass</th>\n",
       "      <th>Sex</th>\n",
       "      <th>Age</th>\n",
       "      <th>Fare</th>\n",
       "      <th>Embarked</th>\n",
       "      <th>Deck</th>\n",
       "      <th>Family</th>\n",
       "      <th>Title</th>\n",
       "      <th>Name_Length_Bins</th>\n",
       "    </tr>\n",
       "  </thead>\n",
       "  <tbody>\n",
       "    <tr>\n",
       "      <th>0</th>\n",
       "      <td>3</td>\n",
       "      <td>male</td>\n",
       "      <td>0.302050</td>\n",
       "      <td>-0.497079</td>\n",
       "      <td>Queenstown</td>\n",
       "      <td>G</td>\n",
       "      <td>0</td>\n",
       "      <td>Mr</td>\n",
       "      <td>3</td>\n",
       "    </tr>\n",
       "    <tr>\n",
       "      <th>1</th>\n",
       "      <td>3</td>\n",
       "      <td>female</td>\n",
       "      <td>1.182718</td>\n",
       "      <td>-0.511942</td>\n",
       "      <td>Southhampton</td>\n",
       "      <td>G</td>\n",
       "      <td>1</td>\n",
       "      <td>Mrs</td>\n",
       "      <td>2</td>\n",
       "    </tr>\n",
       "    <tr>\n",
       "      <th>2</th>\n",
       "      <td>2</td>\n",
       "      <td>male</td>\n",
       "      <td>2.239521</td>\n",
       "      <td>-0.463770</td>\n",
       "      <td>Queenstown</td>\n",
       "      <td>D</td>\n",
       "      <td>0</td>\n",
       "      <td>Mr</td>\n",
       "      <td>2</td>\n",
       "    </tr>\n",
       "    <tr>\n",
       "      <th>3</th>\n",
       "      <td>3</td>\n",
       "      <td>male</td>\n",
       "      <td>-0.226351</td>\n",
       "      <td>-0.482143</td>\n",
       "      <td>Southhampton</td>\n",
       "      <td>G</td>\n",
       "      <td>0</td>\n",
       "      <td>Mr</td>\n",
       "      <td>3</td>\n",
       "    </tr>\n",
       "    <tr>\n",
       "      <th>4</th>\n",
       "      <td>3</td>\n",
       "      <td>female</td>\n",
       "      <td>-0.578619</td>\n",
       "      <td>-0.417167</td>\n",
       "      <td>Southhampton</td>\n",
       "      <td>G</td>\n",
       "      <td>1</td>\n",
       "      <td>Mrs</td>\n",
       "      <td>1</td>\n",
       "    </tr>\n",
       "  </tbody>\n",
       "</table>\n",
       "</div>"
      ],
      "text/plain": [
       "   Pclass     Sex       Age      Fare      Embarked Deck  Family Title  \\\n",
       "0       3    male  0.302050 -0.497079    Queenstown    G       0    Mr   \n",
       "1       3  female  1.182718 -0.511942  Southhampton    G       1   Mrs   \n",
       "2       2    male  2.239521 -0.463770    Queenstown    D       0    Mr   \n",
       "3       3    male -0.226351 -0.482143  Southhampton    G       0    Mr   \n",
       "4       3  female -0.578619 -0.417167  Southhampton    G       1   Mrs   \n",
       "\n",
       "   Name_Length_Bins  \n",
       "0                 3  \n",
       "1                 2  \n",
       "2                 2  \n",
       "3                 3  \n",
       "4                 1  "
      ]
     },
     "execution_count": 63,
     "metadata": {},
     "output_type": "execute_result"
    }
   ],
   "source": [
    "test.head()"
   ]
  },
  {
   "cell_type": "markdown",
   "metadata": {},
   "source": [
    "### 3.8 Create Dummy Variables "
   ]
  },
  {
   "cell_type": "code",
   "execution_count": 64,
   "metadata": {
    "collapsed": true
   },
   "outputs": [],
   "source": [
    "def preprocess_features(data):\n",
    "    # convert categorical variables into numerical      \n",
    "    \n",
    "    output = pd.DataFrame(index = data.index)\n",
    "   \n",
    "    for col, col_data in data.iteritems():        \n",
    "        if col_data.dtype == object:\n",
    "            col_data = pd.get_dummies(col_data, prefix = col)      \n",
    "        output = output.join(col_data)\n",
    "    \n",
    "    return output"
   ]
  },
  {
   "cell_type": "code",
   "execution_count": 65,
   "metadata": {
    "collapsed": true
   },
   "outputs": [],
   "source": [
    "train = preprocess_features(train)\n",
    "test = preprocess_features(test)"
   ]
  },
  {
   "cell_type": "code",
   "execution_count": 66,
   "metadata": {
    "scrolled": true
   },
   "outputs": [
    {
     "data": {
      "text/plain": [
       "['Survived',\n",
       " 'Pclass',\n",
       " 'Sex_female',\n",
       " 'Sex_male',\n",
       " 'Age',\n",
       " 'Fare',\n",
       " 'Embarked_Cherbourg',\n",
       " 'Embarked_Queenstown',\n",
       " 'Embarked_Southhampton',\n",
       " 'Deck_A',\n",
       " 'Deck_B',\n",
       " 'Deck_C',\n",
       " 'Deck_D',\n",
       " 'Deck_E',\n",
       " 'Deck_F',\n",
       " 'Deck_G',\n",
       " 'Deck_T',\n",
       " 'Family',\n",
       " 'Title_Master',\n",
       " 'Title_Miss',\n",
       " 'Title_Mr',\n",
       " 'Title_Mrs',\n",
       " 'Title_Rare Title',\n",
       " 'Name_Length_Bins']"
      ]
     },
     "execution_count": 66,
     "metadata": {},
     "output_type": "execute_result"
    }
   ],
   "source": [
    "list(train)"
   ]
  },
  {
   "cell_type": "code",
   "execution_count": 67,
   "metadata": {
    "scrolled": true
   },
   "outputs": [
    {
     "data": {
      "text/plain": [
       "['Pclass',\n",
       " 'Sex_female',\n",
       " 'Sex_male',\n",
       " 'Age',\n",
       " 'Fare',\n",
       " 'Embarked_Cherbourg',\n",
       " 'Embarked_Queenstown',\n",
       " 'Embarked_Southhampton',\n",
       " 'Deck_A',\n",
       " 'Deck_B',\n",
       " 'Deck_C',\n",
       " 'Deck_D',\n",
       " 'Deck_E',\n",
       " 'Deck_F',\n",
       " 'Deck_G',\n",
       " 'Family',\n",
       " 'Title_Master',\n",
       " 'Title_Miss',\n",
       " 'Title_Mr',\n",
       " 'Title_Mrs',\n",
       " 'Title_Rare Title',\n",
       " 'Name_Length_Bins']"
      ]
     },
     "execution_count": 67,
     "metadata": {},
     "output_type": "execute_result"
    }
   ],
   "source": [
    "list(test)"
   ]
  },
  {
   "cell_type": "code",
   "execution_count": 68,
   "metadata": {},
   "outputs": [],
   "source": [
    "# There is no Deck_T in test data\n",
    "# So we'll not use that feature in trianing\n",
    "train.drop(['Deck_T'],axis=1,inplace=True)"
   ]
  },
  {
   "cell_type": "code",
   "execution_count": 69,
   "metadata": {
    "scrolled": false
   },
   "outputs": [
    {
     "data": {
      "text/html": [
       "<div>\n",
       "<style>\n",
       "    .dataframe thead tr:only-child th {\n",
       "        text-align: right;\n",
       "    }\n",
       "\n",
       "    .dataframe thead th {\n",
       "        text-align: left;\n",
       "    }\n",
       "\n",
       "    .dataframe tbody tr th {\n",
       "        vertical-align: top;\n",
       "    }\n",
       "</style>\n",
       "<table border=\"1\" class=\"dataframe\">\n",
       "  <thead>\n",
       "    <tr style=\"text-align: right;\">\n",
       "      <th></th>\n",
       "      <th>Survived</th>\n",
       "      <th>Pclass</th>\n",
       "      <th>Sex_female</th>\n",
       "      <th>Sex_male</th>\n",
       "      <th>Age</th>\n",
       "      <th>Fare</th>\n",
       "      <th>Embarked_Cherbourg</th>\n",
       "      <th>Embarked_Queenstown</th>\n",
       "      <th>Embarked_Southhampton</th>\n",
       "      <th>Deck_A</th>\n",
       "      <th>...</th>\n",
       "      <th>Deck_E</th>\n",
       "      <th>Deck_F</th>\n",
       "      <th>Deck_G</th>\n",
       "      <th>Family</th>\n",
       "      <th>Title_Master</th>\n",
       "      <th>Title_Miss</th>\n",
       "      <th>Title_Mr</th>\n",
       "      <th>Title_Mrs</th>\n",
       "      <th>Title_Rare Title</th>\n",
       "      <th>Name_Length_Bins</th>\n",
       "    </tr>\n",
       "  </thead>\n",
       "  <tbody>\n",
       "    <tr>\n",
       "      <th>0</th>\n",
       "      <td>0</td>\n",
       "      <td>3</td>\n",
       "      <td>0</td>\n",
       "      <td>1</td>\n",
       "      <td>-0.534310</td>\n",
       "      <td>-0.502445</td>\n",
       "      <td>0</td>\n",
       "      <td>0</td>\n",
       "      <td>1</td>\n",
       "      <td>0</td>\n",
       "      <td>...</td>\n",
       "      <td>0</td>\n",
       "      <td>0</td>\n",
       "      <td>1</td>\n",
       "      <td>1</td>\n",
       "      <td>0</td>\n",
       "      <td>0</td>\n",
       "      <td>1</td>\n",
       "      <td>0</td>\n",
       "      <td>0</td>\n",
       "      <td>2</td>\n",
       "    </tr>\n",
       "    <tr>\n",
       "      <th>1</th>\n",
       "      <td>1</td>\n",
       "      <td>1</td>\n",
       "      <td>1</td>\n",
       "      <td>0</td>\n",
       "      <td>0.576252</td>\n",
       "      <td>0.786845</td>\n",
       "      <td>1</td>\n",
       "      <td>0</td>\n",
       "      <td>0</td>\n",
       "      <td>0</td>\n",
       "      <td>...</td>\n",
       "      <td>0</td>\n",
       "      <td>0</td>\n",
       "      <td>0</td>\n",
       "      <td>1</td>\n",
       "      <td>0</td>\n",
       "      <td>0</td>\n",
       "      <td>0</td>\n",
       "      <td>1</td>\n",
       "      <td>0</td>\n",
       "      <td>1</td>\n",
       "    </tr>\n",
       "    <tr>\n",
       "      <th>2</th>\n",
       "      <td>1</td>\n",
       "      <td>3</td>\n",
       "      <td>1</td>\n",
       "      <td>0</td>\n",
       "      <td>-0.256669</td>\n",
       "      <td>-0.488854</td>\n",
       "      <td>0</td>\n",
       "      <td>0</td>\n",
       "      <td>1</td>\n",
       "      <td>0</td>\n",
       "      <td>...</td>\n",
       "      <td>0</td>\n",
       "      <td>0</td>\n",
       "      <td>1</td>\n",
       "      <td>0</td>\n",
       "      <td>0</td>\n",
       "      <td>1</td>\n",
       "      <td>0</td>\n",
       "      <td>0</td>\n",
       "      <td>0</td>\n",
       "      <td>2</td>\n",
       "    </tr>\n",
       "    <tr>\n",
       "      <th>3</th>\n",
       "      <td>1</td>\n",
       "      <td>1</td>\n",
       "      <td>1</td>\n",
       "      <td>0</td>\n",
       "      <td>0.368022</td>\n",
       "      <td>0.420730</td>\n",
       "      <td>0</td>\n",
       "      <td>0</td>\n",
       "      <td>1</td>\n",
       "      <td>0</td>\n",
       "      <td>...</td>\n",
       "      <td>0</td>\n",
       "      <td>0</td>\n",
       "      <td>0</td>\n",
       "      <td>1</td>\n",
       "      <td>0</td>\n",
       "      <td>0</td>\n",
       "      <td>0</td>\n",
       "      <td>1</td>\n",
       "      <td>0</td>\n",
       "      <td>1</td>\n",
       "    </tr>\n",
       "    <tr>\n",
       "      <th>4</th>\n",
       "      <td>0</td>\n",
       "      <td>3</td>\n",
       "      <td>0</td>\n",
       "      <td>1</td>\n",
       "      <td>0.368022</td>\n",
       "      <td>-0.486337</td>\n",
       "      <td>0</td>\n",
       "      <td>0</td>\n",
       "      <td>1</td>\n",
       "      <td>0</td>\n",
       "      <td>...</td>\n",
       "      <td>0</td>\n",
       "      <td>0</td>\n",
       "      <td>1</td>\n",
       "      <td>0</td>\n",
       "      <td>0</td>\n",
       "      <td>0</td>\n",
       "      <td>1</td>\n",
       "      <td>0</td>\n",
       "      <td>0</td>\n",
       "      <td>2</td>\n",
       "    </tr>\n",
       "  </tbody>\n",
       "</table>\n",
       "<p>5 rows × 23 columns</p>\n",
       "</div>"
      ],
      "text/plain": [
       "   Survived  Pclass  Sex_female  Sex_male       Age      Fare  \\\n",
       "0         0       3           0         1 -0.534310 -0.502445   \n",
       "1         1       1           1         0  0.576252  0.786845   \n",
       "2         1       3           1         0 -0.256669 -0.488854   \n",
       "3         1       1           1         0  0.368022  0.420730   \n",
       "4         0       3           0         1  0.368022 -0.486337   \n",
       "\n",
       "   Embarked_Cherbourg  Embarked_Queenstown  Embarked_Southhampton  Deck_A  \\\n",
       "0                   0                    0                      1       0   \n",
       "1                   1                    0                      0       0   \n",
       "2                   0                    0                      1       0   \n",
       "3                   0                    0                      1       0   \n",
       "4                   0                    0                      1       0   \n",
       "\n",
       "         ...         Deck_E  Deck_F  Deck_G  Family  Title_Master  Title_Miss  \\\n",
       "0        ...              0       0       1       1             0           0   \n",
       "1        ...              0       0       0       1             0           0   \n",
       "2        ...              0       0       1       0             0           1   \n",
       "3        ...              0       0       0       1             0           0   \n",
       "4        ...              0       0       1       0             0           0   \n",
       "\n",
       "   Title_Mr  Title_Mrs  Title_Rare Title  Name_Length_Bins  \n",
       "0         1          0                 0                 2  \n",
       "1         0          1                 0                 1  \n",
       "2         0          0                 0                 2  \n",
       "3         0          1                 0                 1  \n",
       "4         1          0                 0                 2  \n",
       "\n",
       "[5 rows x 23 columns]"
      ]
     },
     "execution_count": 69,
     "metadata": {},
     "output_type": "execute_result"
    }
   ],
   "source": [
    "train.head()"
   ]
  },
  {
   "cell_type": "code",
   "execution_count": 70,
   "metadata": {
    "scrolled": true
   },
   "outputs": [
    {
     "data": {
      "text/html": [
       "<div>\n",
       "<style>\n",
       "    .dataframe thead tr:only-child th {\n",
       "        text-align: right;\n",
       "    }\n",
       "\n",
       "    .dataframe thead th {\n",
       "        text-align: left;\n",
       "    }\n",
       "\n",
       "    .dataframe tbody tr th {\n",
       "        vertical-align: top;\n",
       "    }\n",
       "</style>\n",
       "<table border=\"1\" class=\"dataframe\">\n",
       "  <thead>\n",
       "    <tr style=\"text-align: right;\">\n",
       "      <th></th>\n",
       "      <th>Pclass</th>\n",
       "      <th>Sex_female</th>\n",
       "      <th>Sex_male</th>\n",
       "      <th>Age</th>\n",
       "      <th>Fare</th>\n",
       "      <th>Embarked_Cherbourg</th>\n",
       "      <th>Embarked_Queenstown</th>\n",
       "      <th>Embarked_Southhampton</th>\n",
       "      <th>Deck_A</th>\n",
       "      <th>Deck_B</th>\n",
       "      <th>...</th>\n",
       "      <th>Deck_E</th>\n",
       "      <th>Deck_F</th>\n",
       "      <th>Deck_G</th>\n",
       "      <th>Family</th>\n",
       "      <th>Title_Master</th>\n",
       "      <th>Title_Miss</th>\n",
       "      <th>Title_Mr</th>\n",
       "      <th>Title_Mrs</th>\n",
       "      <th>Title_Rare Title</th>\n",
       "      <th>Name_Length_Bins</th>\n",
       "    </tr>\n",
       "  </thead>\n",
       "  <tbody>\n",
       "    <tr>\n",
       "      <th>0</th>\n",
       "      <td>3</td>\n",
       "      <td>0</td>\n",
       "      <td>1</td>\n",
       "      <td>0.302050</td>\n",
       "      <td>-0.497079</td>\n",
       "      <td>0</td>\n",
       "      <td>1</td>\n",
       "      <td>0</td>\n",
       "      <td>0</td>\n",
       "      <td>0</td>\n",
       "      <td>...</td>\n",
       "      <td>0</td>\n",
       "      <td>0</td>\n",
       "      <td>1</td>\n",
       "      <td>0</td>\n",
       "      <td>0</td>\n",
       "      <td>0</td>\n",
       "      <td>1</td>\n",
       "      <td>0</td>\n",
       "      <td>0</td>\n",
       "      <td>3</td>\n",
       "    </tr>\n",
       "    <tr>\n",
       "      <th>1</th>\n",
       "      <td>3</td>\n",
       "      <td>1</td>\n",
       "      <td>0</td>\n",
       "      <td>1.182718</td>\n",
       "      <td>-0.511942</td>\n",
       "      <td>0</td>\n",
       "      <td>0</td>\n",
       "      <td>1</td>\n",
       "      <td>0</td>\n",
       "      <td>0</td>\n",
       "      <td>...</td>\n",
       "      <td>0</td>\n",
       "      <td>0</td>\n",
       "      <td>1</td>\n",
       "      <td>1</td>\n",
       "      <td>0</td>\n",
       "      <td>0</td>\n",
       "      <td>0</td>\n",
       "      <td>1</td>\n",
       "      <td>0</td>\n",
       "      <td>2</td>\n",
       "    </tr>\n",
       "    <tr>\n",
       "      <th>2</th>\n",
       "      <td>2</td>\n",
       "      <td>0</td>\n",
       "      <td>1</td>\n",
       "      <td>2.239521</td>\n",
       "      <td>-0.463770</td>\n",
       "      <td>0</td>\n",
       "      <td>1</td>\n",
       "      <td>0</td>\n",
       "      <td>0</td>\n",
       "      <td>0</td>\n",
       "      <td>...</td>\n",
       "      <td>0</td>\n",
       "      <td>0</td>\n",
       "      <td>0</td>\n",
       "      <td>0</td>\n",
       "      <td>0</td>\n",
       "      <td>0</td>\n",
       "      <td>1</td>\n",
       "      <td>0</td>\n",
       "      <td>0</td>\n",
       "      <td>2</td>\n",
       "    </tr>\n",
       "    <tr>\n",
       "      <th>3</th>\n",
       "      <td>3</td>\n",
       "      <td>0</td>\n",
       "      <td>1</td>\n",
       "      <td>-0.226351</td>\n",
       "      <td>-0.482143</td>\n",
       "      <td>0</td>\n",
       "      <td>0</td>\n",
       "      <td>1</td>\n",
       "      <td>0</td>\n",
       "      <td>0</td>\n",
       "      <td>...</td>\n",
       "      <td>0</td>\n",
       "      <td>0</td>\n",
       "      <td>1</td>\n",
       "      <td>0</td>\n",
       "      <td>0</td>\n",
       "      <td>0</td>\n",
       "      <td>1</td>\n",
       "      <td>0</td>\n",
       "      <td>0</td>\n",
       "      <td>3</td>\n",
       "    </tr>\n",
       "    <tr>\n",
       "      <th>4</th>\n",
       "      <td>3</td>\n",
       "      <td>1</td>\n",
       "      <td>0</td>\n",
       "      <td>-0.578619</td>\n",
       "      <td>-0.417167</td>\n",
       "      <td>0</td>\n",
       "      <td>0</td>\n",
       "      <td>1</td>\n",
       "      <td>0</td>\n",
       "      <td>0</td>\n",
       "      <td>...</td>\n",
       "      <td>0</td>\n",
       "      <td>0</td>\n",
       "      <td>1</td>\n",
       "      <td>1</td>\n",
       "      <td>0</td>\n",
       "      <td>0</td>\n",
       "      <td>0</td>\n",
       "      <td>1</td>\n",
       "      <td>0</td>\n",
       "      <td>1</td>\n",
       "    </tr>\n",
       "  </tbody>\n",
       "</table>\n",
       "<p>5 rows × 22 columns</p>\n",
       "</div>"
      ],
      "text/plain": [
       "   Pclass  Sex_female  Sex_male       Age      Fare  Embarked_Cherbourg  \\\n",
       "0       3           0         1  0.302050 -0.497079                   0   \n",
       "1       3           1         0  1.182718 -0.511942                   0   \n",
       "2       2           0         1  2.239521 -0.463770                   0   \n",
       "3       3           0         1 -0.226351 -0.482143                   0   \n",
       "4       3           1         0 -0.578619 -0.417167                   0   \n",
       "\n",
       "   Embarked_Queenstown  Embarked_Southhampton  Deck_A  Deck_B  \\\n",
       "0                    1                      0       0       0   \n",
       "1                    0                      1       0       0   \n",
       "2                    1                      0       0       0   \n",
       "3                    0                      1       0       0   \n",
       "4                    0                      1       0       0   \n",
       "\n",
       "         ...         Deck_E  Deck_F  Deck_G  Family  Title_Master  Title_Miss  \\\n",
       "0        ...              0       0       1       0             0           0   \n",
       "1        ...              0       0       1       1             0           0   \n",
       "2        ...              0       0       0       0             0           0   \n",
       "3        ...              0       0       1       0             0           0   \n",
       "4        ...              0       0       1       1             0           0   \n",
       "\n",
       "   Title_Mr  Title_Mrs  Title_Rare Title  Name_Length_Bins  \n",
       "0         1          0                 0                 3  \n",
       "1         0          1                 0                 2  \n",
       "2         1          0                 0                 2  \n",
       "3         1          0                 0                 3  \n",
       "4         0          1                 0                 1  \n",
       "\n",
       "[5 rows x 22 columns]"
      ]
     },
     "execution_count": 70,
     "metadata": {},
     "output_type": "execute_result"
    }
   ],
   "source": [
    "test.head()"
   ]
  },
  {
   "cell_type": "markdown",
   "metadata": {},
   "source": [
    "### 4.0 Prediction"
   ]
  },
  {
   "cell_type": "markdown",
   "metadata": {},
   "source": [
    " ### 4.1 Load Modules for Prediction "
   ]
  },
  {
   "cell_type": "code",
   "execution_count": 71,
   "metadata": {
    "collapsed": true
   },
   "outputs": [],
   "source": [
    "from sklearn.pipeline import Pipeline\n",
    "from sklearn.svm import SVC\n",
    "from sklearn.decomposition import PCA\n",
    "from sklearn.model_selection import GridSearchCV, cross_val_score, KFold, train_test_split\n",
    "from sklearn.ensemble import RandomForestClassifier, AdaBoostClassifier, GradientBoostingClassifier, BaggingClassifier, ExtraTreesClassifier, VotingClassifier\n",
    "from sklearn.tree import DecisionTreeClassifier\n",
    "from sklearn.neighbors import KNeighborsClassifier\n",
    "from sklearn.metrics import precision_recall_curve\n",
    "from sklearn.linear_model import LogisticRegression\n",
    "from sklearn.metrics import f1_score, recall_score, precision_score, roc_curve, classification_report"
   ]
  },
  {
   "cell_type": "markdown",
   "metadata": {},
   "source": [
    "### 4.2 Split Data into Training and Testing"
   ]
  },
  {
   "cell_type": "code",
   "execution_count": 72,
   "metadata": {
    "collapsed": true
   },
   "outputs": [],
   "source": [
    "X = train.drop(['Survived'],1)\n",
    "y = train['Survived']\n",
    "\n",
    "\n",
    "# use the survival_ratio_in_train for the split\n",
    "x_train, x_test, y_train, y_test = train_test_split(X,\n",
    "                                                    y, \n",
    "                                                    test_size=survival_ratio_in_train,\n",
    "                                                    stratify = y\n",
    "                                                   )"
   ]
  },
  {
   "cell_type": "markdown",
   "metadata": {},
   "source": [
    "### 4.3 Create the Estimators and the Pipeline"
   ]
  },
  {
   "cell_type": "markdown",
   "metadata": {},
   "source": [
    "RandomForest, Logistic Regression, and Ada Boost classifiers are used for the pipeline. Trade off was made between \n",
    "selecting few classifiers and tuning greater amount of hyperparameters Vs selecting many classifiers and tuning a smaller amount of hyperparameters with avaliable computing resources."
   ]
  },
  {
   "cell_type": "code",
   "execution_count": 73,
   "metadata": {},
   "outputs": [
    {
     "data": {
      "text/plain": [
       "(RandomForestClassifier(bootstrap=True, class_weight=None, criterion='gini',\n",
       "             max_depth=None, max_features='auto', max_leaf_nodes=None,\n",
       "             min_impurity_split=1e-07, min_samples_leaf=1,\n",
       "             min_samples_split=2, min_weight_fraction_leaf=0.0,\n",
       "             n_estimators=10, n_jobs=1, oob_score=False, random_state=None,\n",
       "             verbose=0, warm_start=False),\n",
       " LogisticRegression(C=1.0, class_weight=None, dual=False, fit_intercept=True,\n",
       "           intercept_scaling=1, max_iter=100, multi_class='ovr', n_jobs=1,\n",
       "           penalty='l2', random_state=None, solver='liblinear', tol=0.0001,\n",
       "           verbose=0, warm_start=False),\n",
       " AdaBoostClassifier(algorithm='SAMME.R', base_estimator=None,\n",
       "           learning_rate=1.0, n_estimators=50, random_state=None))"
      ]
     },
     "execution_count": 73,
     "metadata": {},
     "output_type": "execute_result"
    }
   ],
   "source": [
    "nestedCV = KFold(n_splits=10, shuffle=True)\n",
    "\n",
    "estimators = [('rForest',RandomForestClassifier()),\n",
    "        ('logR', LogisticRegression()),\n",
    "        ('ada', AdaBoostClassifier())]\n",
    "\n",
    "pipe = Pipeline(estimators)\n",
    "\n",
    "# These are the classfiers that will be used for the prediction\n",
    "\n",
    "pipe.named_steps['rForest'], pipe.named_steps[\"logR\"], pipe.named_steps[\"ada\"]"
   ]
  },
  {
   "cell_type": "code",
   "execution_count": 74,
   "metadata": {
    "collapsed": true
   },
   "outputs": [],
   "source": [
    "seed = 4 # for reproducibility"
   ]
  },
  {
   "cell_type": "markdown",
   "metadata": {},
   "source": [
    "### 4.4 Set the Parameter Grid for Hyperparameter Tuning "
   ]
  },
  {
   "cell_type": "markdown",
   "metadata": {},
   "source": [
    "Model parameters were tuned using GridSearch to find the best classifier and it's hyperparameters."
   ]
  },
  {
   "cell_type": "code",
   "execution_count": 75,
   "metadata": {
    "collapsed": true,
    "scrolled": true
   },
   "outputs": [],
   "source": [
    "# set parameters to do a parameters sweep for the classifiers\n",
    "\n",
    "param_grid = dict(rForest__n_estimators=[5,10,25,50], # of DTrees\n",
    "                  rForest__max_features=[3,5,7,10],\n",
    "                  rForest__class_weight=[\"balanced\"],\n",
    "                  rForest__random_state=[seed],\n",
    "                  logR__penalty=[\"l2\"], # norm selection\n",
    "                  logR__class_weight=['balanced'],   \n",
    "                  logR__random_state=[seed],                 \n",
    "                  ada__algorithm=[\"SAMME\"],\n",
    "                  ada__n_estimators=[25,50,100,250,350,500],\n",
    "                  ada__learning_rate=[0.01,0.1,0.25],\n",
    "                  ada__random_state=[seed])\n",
    "\n",
    "grid_search = GridSearchCV(pipe, param_grid=param_grid, cv=nestedCV)"
   ]
  },
  {
   "cell_type": "markdown",
   "metadata": {},
   "source": [
    "### 4.5 Fit the Data to Models in the Pipeline"
   ]
  },
  {
   "cell_type": "code",
   "execution_count": 78,
   "metadata": {
    "scrolled": false
   },
   "outputs": [
    {
     "name": "stdout",
     "output_type": "stream",
     "text": [
      "{'ada__algorithm': 'SAMME', 'ada__learning_rate': 0.01, 'ada__n_estimators': 250, 'ada__random_state': 4, 'logR__class_weight': 'balanced', 'logR__penalty': 'l2', 'logR__random_state': 4, 'rForest__class_weight': 'balanced', 'rForest__max_features': 3, 'rForest__n_estimators': 50, 'rForest__random_state': 4}\n"
     ]
    }
   ],
   "source": [
    "grid_search = grid_search.fit(x_train,y_train)\n",
    "\n",
    "print(grid_search.best_params_)"
   ]
  },
  {
   "cell_type": "markdown",
   "metadata": {},
   "source": [
    "### 4.6 Best Estimator and Hyperparameters"
   ]
  },
  {
   "cell_type": "markdown",
   "metadata": {},
   "source": [
    "Grid Search best estimator was Random Forest witht following hyperparameters."
   ]
  },
  {
   "cell_type": "code",
   "execution_count": 79,
   "metadata": {
    "scrolled": false
   },
   "outputs": [
    {
     "name": "stdout",
     "output_type": "stream",
     "text": [
      "Pipeline(steps=[('rForest', RandomForestClassifier(bootstrap=True, class_weight='balanced',\n",
      "            criterion='gini', max_depth=None, max_features=3,\n",
      "            max_leaf_nodes=None, min_impurity_split=1e-07,\n",
      "            min_samples_leaf=1, min_samples_split=2,\n",
      "            min_weight_fraction_leaf=0.0, n...ithm='SAMME', base_estimator=None, learning_rate=0.01,\n",
      "          n_estimators=250, random_state=4))])\n"
     ]
    }
   ],
   "source": [
    "clf = grid_search.best_estimator_\n",
    "print(clf)"
   ]
  },
  {
   "cell_type": "markdown",
   "metadata": {},
   "source": [
    "### 4.7 Prediction for Validation"
   ]
  },
  {
   "cell_type": "code",
   "execution_count": 80,
   "metadata": {
    "collapsed": true
   },
   "outputs": [],
   "source": [
    "y_pred = clf.predict(x_test)"
   ]
  },
  {
   "cell_type": "code",
   "execution_count": 81,
   "metadata": {},
   "outputs": [
    {
     "name": "stdout",
     "output_type": "stream",
     "text": [
      "Final Evaluation score :  0.708171206226\n",
      "Accuracy score:  0.780701754386\n",
      "Recall score:  0.69465648855\n",
      "Precision score:  0.722222222222\n",
      "Grid search best score:  0.795992714026\n"
     ]
    }
   ],
   "source": [
    "predicted_f1 = f1_score(y_test, y_pred)\n",
    "print(\"Final Evaluation score : \", predicted_f1)\n",
    "\n",
    "acc = sum(y_test == y_pred) / float(len(y_pred))\n",
    "print(\"Accuracy score: \", acc)\n",
    "\n",
    "rec = recall_score(y_test,y_pred)\n",
    "print(\"Recall score: \", rec)\n",
    "\n",
    "pre = precision_score(y_test,y_pred)\n",
    "print(\"Precision score: \", pre)\n",
    "\n",
    "print(\"Grid search best score: \", grid_search.best_score_)"
   ]
  },
  {
   "cell_type": "code",
   "execution_count": 85,
   "metadata": {},
   "outputs": [
    {
     "name": "stdout",
     "output_type": "stream",
     "text": [
      "              precision    recall  f1-score   support\n",
      "\n",
      "Not Survived       0.81      0.83      0.82       211\n",
      "    Survived       0.72      0.69      0.71       131\n",
      "\n",
      " avg / total       0.78      0.78      0.78       342\n",
      "\n"
     ]
    }
   ],
   "source": [
    "print(classification_report(y_test, y_pred, target_names=[\"Not Survived\", \"Survived\"]))"
   ]
  },
  {
   "cell_type": "markdown",
   "metadata": {},
   "source": [
    "### 4.8 Nested Score with Cross Validation"
   ]
  },
  {
   "cell_type": "markdown",
   "metadata": {},
   "source": [
    "Classification metrics were evaluvated using nested corss validation. \n",
    "following scoring functions are used because it's a binary classification:\n",
    "\n",
    "ROC_AUC = Area Under the Curve from prediction scores\n",
    "\n",
    "F1 Score = weighted average of the precision and recall, where an F1 score reaches its best value at 1 and worst score at 0. "
   ]
  },
  {
   "cell_type": "code",
   "execution_count": 86,
   "metadata": {},
   "outputs": [
    {
     "name": "stdout",
     "output_type": "stream",
     "text": [
      "Cross Validation Accuracy in AUC: 0.80 (+/- 0.08)\n",
      "Corss Validation Accuracy in F1 score: 0.78 (+/- 0.08)\n"
     ]
    }
   ],
   "source": [
    "# computed the nested score with auc\n",
    "nested_score_auc = cross_val_score(clf, X, y, cv=nestedCV, n_jobs=-1, scoring=\"roc_auc\")\n",
    "print(\"Cross Validation Accuracy in AUC: %0.2f (+/- %0.2f)\" % (nested_score_auc.mean(), nested_score_auc.std() * 2))\n",
    "\n",
    "# compute the nested score with f1_weight\n",
    "nested_score_f1 = cross_val_score(clf, X, y, cv=nestedCV, n_jobs=-1, scoring=\"f1_weighted\")\n",
    "print(\"Corss Validation Accuracy in F1 score: %0.2f (+/- %0.2f)\" % (nested_score_f1.mean(), nested_score_f1.std() * 2))"
   ]
  },
  {
   "cell_type": "markdown",
   "metadata": {},
   "source": [
    "Nested cross validation score is computed by spliting the data into testing and training k times (Kfold) and validating. To compute the above scores I used 10 folds. In K-fold cross validation the data is divided into k subsets and holdout method repeated k times. After that, the average error across all k trials are computed. By using this method every data point will get to be in the test set once and to be in the training k-1. The benefit of K-fold cross validation is that we can get a better understanding of how data behaves when it saw unseen data. \n",
    "\n",
    "The final evaluation score is ignoring a portion of the dataset. We trained the model only using a subset of the test data and evaluate using the remaining set. We didn't properly utilize the test data set properly. This could result in underfit and would give lower accuracy scores. \n",
    "\n",
    "As we can see the final evaluation score for the model is 0.7 but the cross validation score is 0.8. Therefore, by using cross validation we can build a general model. "
   ]
  },
  {
   "cell_type": "markdown",
   "metadata": {},
   "source": [
    "### 4.9 Precision - Recall Curve"
   ]
  },
  {
   "cell_type": "code",
   "execution_count": 87,
   "metadata": {
    "collapsed": true
   },
   "outputs": [],
   "source": [
    "y_pred_grid = clf.predict_proba(x_test)[:, 1]\n",
    "fpr_grid_lm, tpr_grid_lm, _ = roc_curve(y_test, y_pred_grid)\n",
    "\n",
    "rForest = RandomForestClassifier()\n",
    "rForest.fit(x_train, y_train)\n",
    "y_pred_rForest = rForest.predict_proba(x_test)[:,1]\n",
    "fpr_rForest_lm, tpr_rForest_lm, _ = roc_curve(y_test, y_pred_rForest)\n",
    "\n",
    "logR = LogisticRegression()\n",
    "logR.fit(x_train,y_train)\n",
    "y_pred_logR = logR.predict_proba(x_test)[:,1]\n",
    "fpr_logR_lm, tpr_logR_lm, _ = roc_curve(y_test, y_pred_logR)\n",
    "\n",
    "ada = AdaBoostClassifier()\n",
    "ada.fit(x_train,y_train)\n",
    "y_pred_ada = ada.predict_proba(x_test)[:,1]\n",
    "fpr_ada_lm, tpr_ada_lm, _ = roc_curve(y_test, y_pred_ada)\n"
   ]
  },
  {
   "cell_type": "markdown",
   "metadata": {},
   "source": [
    "Final Evaluation including precision - recall curve\n",
    "\n",
    "Precision and Recall curve generated using the tuned model and other classifiers used in the grid search but hyperparameters set to default values. By doing this we can compare the optimized model against default models."
   ]
  },
  {
   "cell_type": "code",
   "execution_count": 88,
   "metadata": {
    "scrolled": false
   },
   "outputs": [
    {
     "data": {
      "image/png": "[encoded data removed]",
      "text/plain": [
       "<matplotlib.figure.Figure at 0x7fb31e27a780>"
      ]
     },
     "metadata": {},
     "output_type": "display_data"
    }
   ],
   "source": [
    "plt.figure(1)\n",
    "plt.plot([0, 1], [0, 1], 'k--')\n",
    "plt.plot(fpr_grid_lm, tpr_grid_lm, label='grid_search')\n",
    "plt.plot(fpr_rForest_lm, tpr_rForest_lm, label='Random Forest')\n",
    "plt.plot(fpr_logR_lm, tpr_logR_lm, label='Logistic Regression')\n",
    "plt.plot(fpr_ada_lm, tpr_ada_lm, label='Ada Boost')\n",
    "plt.xlabel('False positive rate')\n",
    "plt.ylabel('True positive rate')\n",
    "plt.title('ROC curve')\n",
    "plt.legend(loc='best')\n",
    "plt.show()"
   ]
  },
  {
   "cell_type": "code",
   "execution_count": 97,
   "metadata": {
    "collapsed": true
   },
   "outputs": [],
   "source": [
    "final_predictions = clf.predict(test)\n",
    "\n",
    "test1 = pd.read_csv(\"./Data/test.csv\")\n",
    "\n",
    "final_predictions = final_predictions.astype(int)\n",
    "submission = pd.DataFrame({\n",
    "        \"PassengerId\": test1[\"PassengerId\"],\n",
    "        \"Survived\": final_predictions\n",
    "    })\n",
    "\n",
    "submission.to_csv(\"./Data/final_submission.csv\", index=False)"
   ]
  }
 ],
 "metadata": {
  "kernelspec": {
   "display_name": "Python 3",
   "language": "python",
   "name": "python3"
  },
  "language_info": {
   "codemirror_mode": {
    "name": "ipython",
    "version": 3
   },
   "file_extension": ".py",
   "mimetype": "text/x-python",
   "name": "python",
   "nbconvert_exporter": "python",
   "pygments_lexer": "ipython3",
   "version": "3.6.2"
  }
 },
 "nbformat": 4,
 "nbformat_minor": 2
}
